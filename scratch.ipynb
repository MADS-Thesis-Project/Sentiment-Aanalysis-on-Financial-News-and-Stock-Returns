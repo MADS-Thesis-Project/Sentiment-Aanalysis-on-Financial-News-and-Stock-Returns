{
 "cells": [
  {
   "cell_type": "code",
   "execution_count": 1,
   "metadata": {
    "ExecuteTime": {
     "end_time": "2021-05-15T07:27:56.858824Z",
     "start_time": "2021-05-15T07:27:55.545815Z"
    }
   },
   "outputs": [],
   "source": [
    "import pandas as pd\n",
    "import numpy as np"
   ]
  },
  {
   "cell_type": "markdown",
   "metadata": {},
   "source": [
    "# Headlines"
   ]
  },
  {
   "cell_type": "code",
   "execution_count": 22,
   "metadata": {
    "ExecuteTime": {
     "end_time": "2021-05-15T07:33:19.431639Z",
     "start_time": "2021-05-15T07:33:15.322106Z"
    }
   },
   "outputs": [
    {
     "data": {
      "text/plain": [
       "1845559"
      ]
     },
     "execution_count": 22,
     "metadata": {},
     "output_type": "execute_result"
    }
   ],
   "source": [
    "hl = pd.read_csv('raw_partner_headlines.csv')\n",
    "len(hl)"
   ]
  },
  {
   "cell_type": "code",
   "execution_count": 25,
   "metadata": {
    "ExecuteTime": {
     "end_time": "2021-05-15T07:34:03.505071Z",
     "start_time": "2021-05-15T07:34:03.493103Z"
    }
   },
   "outputs": [
    {
     "data": {
      "text/html": [
       "<div>\n",
       "<style scoped>\n",
       "    .dataframe tbody tr th:only-of-type {\n",
       "        vertical-align: middle;\n",
       "    }\n",
       "\n",
       "    .dataframe tbody tr th {\n",
       "        vertical-align: top;\n",
       "    }\n",
       "\n",
       "    .dataframe thead th {\n",
       "        text-align: right;\n",
       "    }\n",
       "</style>\n",
       "<table border=\"1\" class=\"dataframe\">\n",
       "  <thead>\n",
       "    <tr style=\"text-align: right;\">\n",
       "      <th></th>\n",
       "      <th>Unnamed: 0</th>\n",
       "      <th>headline</th>\n",
       "      <th>url</th>\n",
       "      <th>publisher</th>\n",
       "      <th>date</th>\n",
       "      <th>stock</th>\n",
       "    </tr>\n",
       "  </thead>\n",
       "  <tbody>\n",
       "    <tr>\n",
       "      <th>0</th>\n",
       "      <td>2</td>\n",
       "      <td>Agilent Technologies Announces Pricing of $5……...</td>\n",
       "      <td>http://www.gurufocus.com/news/1153187/agilent-...</td>\n",
       "      <td>GuruFocus</td>\n",
       "      <td>2020-06-01 00:00:00</td>\n",
       "      <td>A</td>\n",
       "    </tr>\n",
       "    <tr>\n",
       "      <th>1</th>\n",
       "      <td>3</td>\n",
       "      <td>Agilent (A) Gears Up for Q2 Earnings: What's i...</td>\n",
       "      <td>http://www.zacks.com/stock/news/931205/agilent...</td>\n",
       "      <td>Zacks</td>\n",
       "      <td>2020-05-18 00:00:00</td>\n",
       "      <td>A</td>\n",
       "    </tr>\n",
       "    <tr>\n",
       "      <th>2</th>\n",
       "      <td>4</td>\n",
       "      <td>J.P. Morgan Asset Management Announces Liquida...</td>\n",
       "      <td>http://www.gurufocus.com/news/1138923/jp-morga...</td>\n",
       "      <td>GuruFocus</td>\n",
       "      <td>2020-05-15 00:00:00</td>\n",
       "      <td>A</td>\n",
       "    </tr>\n",
       "    <tr>\n",
       "      <th>3</th>\n",
       "      <td>5</td>\n",
       "      <td>Pershing Square Capital Management, L.P. Buys ...</td>\n",
       "      <td>http://www.gurufocus.com/news/1138704/pershing...</td>\n",
       "      <td>GuruFocus</td>\n",
       "      <td>2020-05-15 00:00:00</td>\n",
       "      <td>A</td>\n",
       "    </tr>\n",
       "    <tr>\n",
       "      <th>4</th>\n",
       "      <td>6</td>\n",
       "      <td>Agilent Awards Trilogy Sciences with a Golden ...</td>\n",
       "      <td>http://www.gurufocus.com/news/1134012/agilent-...</td>\n",
       "      <td>GuruFocus</td>\n",
       "      <td>2020-05-12 00:00:00</td>\n",
       "      <td>A</td>\n",
       "    </tr>\n",
       "  </tbody>\n",
       "</table>\n",
       "</div>"
      ],
      "text/plain": [
       "   Unnamed: 0                                           headline  \\\n",
       "0           2  Agilent Technologies Announces Pricing of $5……...   \n",
       "1           3  Agilent (A) Gears Up for Q2 Earnings: What's i...   \n",
       "2           4  J.P. Morgan Asset Management Announces Liquida...   \n",
       "3           5  Pershing Square Capital Management, L.P. Buys ...   \n",
       "4           6  Agilent Awards Trilogy Sciences with a Golden ...   \n",
       "\n",
       "                                                 url  publisher  \\\n",
       "0  http://www.gurufocus.com/news/1153187/agilent-...  GuruFocus   \n",
       "1  http://www.zacks.com/stock/news/931205/agilent...      Zacks   \n",
       "2  http://www.gurufocus.com/news/1138923/jp-morga...  GuruFocus   \n",
       "3  http://www.gurufocus.com/news/1138704/pershing...  GuruFocus   \n",
       "4  http://www.gurufocus.com/news/1134012/agilent-...  GuruFocus   \n",
       "\n",
       "                  date stock  \n",
       "0  2020-06-01 00:00:00     A  \n",
       "1  2020-05-18 00:00:00     A  \n",
       "2  2020-05-15 00:00:00     A  \n",
       "3  2020-05-15 00:00:00     A  \n",
       "4  2020-05-12 00:00:00     A  "
      ]
     },
     "execution_count": 25,
     "metadata": {},
     "output_type": "execute_result"
    }
   ],
   "source": [
    "hl.head()"
   ]
  },
  {
   "cell_type": "markdown",
   "metadata": {},
   "source": [
    "# Dow Jones Index"
   ]
  },
  {
   "cell_type": "markdown",
   "metadata": {},
   "source": [
    "Only Include Dow Jones Index Companies - brief description, most well known companies"
   ]
  },
  {
   "cell_type": "code",
   "execution_count": 15,
   "metadata": {
    "ExecuteTime": {
     "end_time": "2021-05-15T07:31:51.946230Z",
     "start_time": "2021-05-15T07:31:51.932267Z"
    }
   },
   "outputs": [],
   "source": [
    "# https://en.wikipedia.org/wiki/Dow_Jones_Industrial_Average\n",
    "dow_table = \"\"\"Apple Inc.\tNASDAQ\tAAPL\tInformation technology\t2015-03-19\t\t2.57%\n",
    "Amgen\tNASDAQ\tAMGN\tPharmaceutical industry\t2020-08-31\t\t4.87%\n",
    "American Express\tNYSE\tAXP\tFinancial services\t1982-08-30\t\t2.88%\n",
    "Boeing\tNYSE\tBA\tAerospace and defense\t1987-03-12\t\t4.92%\n",
    "Caterpillar Inc.\tNYSE\tCAT\tConstruction and Mining\t1991-05-06\t\t4.54%\n",
    "Salesforce\tNYSE\tCRM\tInformation technology\t2020-08-31\t\t4.45%\n",
    "Cisco Systems\tNASDAQ\tCSCO\tInformation technology\t2009-06-08\t\t1.00%\n",
    "Chevron Corporation\tNYSE\tCVX\tPetroleum industry\t2008-02-19\tAlso 1930-07-18 to 1999-11-01\t2.03%\n",
    "The Walt Disney Company\tNYSE\tDIS\tBroadcasting and entertainment\t1991-05-06\t\t3.66%\n",
    "Dow Inc.\tNYSE\tDOW\tChemical industry\t2019-04-02\t\t1.25%\n",
    "Goldman Sachs\tNYSE\tGS\tFinancial services\t2013-09-20\t\t6.54%\n",
    "The Home Depot\tNYSE\tHD\tRetailing\t1999-11-01\t\t6.24%\n",
    "Honeywell\tNASDAQ\tHON\tConglomerate\t2020-08-31\t\t4.47%\n",
    "IBM\tNYSE\tIBM\tInformation technology\t1979-06-29\tAlso 1932-05-26 to 1939-03-04\t2.59%\n",
    "Intel\tNASDAQ\tINTC\tInformation technology\t1999-11-01\t\t1.25%\n",
    "Johnson & Johnson\tNYSE\tJNJ\tPharmaceutical industry\t1997-03-17\t\t3.12%\n",
    "JPMorgan Chase\tNYSE\tJPM\tFinancial services\t1991-05-06\t\t2.95%\n",
    "The Coca-Cola Company\tNYSE\tKO\tFood industry\t1987-03-12\tAlso 1932-05-26 to 1935-11-20\t1.04%\n",
    "McDonald's\tNYSE\tMCD\tFood industry\t1985-10-30\t\t4.49%\n",
    "3M\tNYSE\tMMM\tConglomerate\t1976-08-09\tAs Minnesota Mining and Manufacturing\t3.84%\n",
    "Merck & Co.\tNYSE\tMRK\tPharmaceutical industry\t1979-06-29\t\t1.49%\n",
    "Microsoft\tNASDAQ\tMSFT\tInformation technology\t1999-11-01\t\t4.98%\n",
    "Nike, Inc.\tNYSE\tNKE\tApparel\t2013-09-20\t\t2.58%\n",
    "Procter & Gamble\tNYSE\tPG\tFast-moving consumer goods\t1932-05-26\t\t2.64%\n",
    "The Travelers Companies\tNYSE\tTRV\tFinancial services\t2009-06-08\t\t3.03%\n",
    "UnitedHealth Group\tNYSE\tUNH\tManaged health care\t2012-09-24\t\t7.33%\n",
    "Visa Inc.\tNYSE\tV\tFinancial services\t2013-09-20\t\t4.33%\n",
    "Verizon Communications\tNYSE\tVZ\tTelecommunication\t2004-04-08\t\t1.13%\n",
    "Walgreens Boots Alliance\tNASDAQ\tWBA\tRetailing\t2018-06-26\t\t1.06%\n",
    "Walmart\tNYSE\tWMT\tRetailing\t1997-03-17\t\t2.72%\"\"\".split(\"\\n\")"
   ]
  },
  {
   "cell_type": "code",
   "execution_count": 20,
   "metadata": {
    "ExecuteTime": {
     "end_time": "2021-05-15T07:33:02.446569Z",
     "start_time": "2021-05-15T07:33:02.429614Z"
    }
   },
   "outputs": [],
   "source": [
    "dow = []\n",
    "for row in dow_table:\n",
    "    dow.append(row.split(\"\\t\")[2])"
   ]
  },
  {
   "cell_type": "markdown",
   "metadata": {},
   "source": [
    "# Analyst Ratings"
   ]
  },
  {
   "cell_type": "code",
   "execution_count": 58,
   "metadata": {
    "ExecuteTime": {
     "end_time": "2021-05-15T07:47:42.781203Z",
     "start_time": "2021-05-15T07:47:39.414179Z"
    }
   },
   "outputs": [
    {
     "data": {
      "text/html": [
       "<div>\n",
       "<style scoped>\n",
       "    .dataframe tbody tr th:only-of-type {\n",
       "        vertical-align: middle;\n",
       "    }\n",
       "\n",
       "    .dataframe tbody tr th {\n",
       "        vertical-align: top;\n",
       "    }\n",
       "\n",
       "    .dataframe thead th {\n",
       "        text-align: right;\n",
       "    }\n",
       "</style>\n",
       "<table border=\"1\" class=\"dataframe\">\n",
       "  <thead>\n",
       "    <tr style=\"text-align: right;\">\n",
       "      <th></th>\n",
       "      <th>Unnamed: 0</th>\n",
       "      <th>headline</th>\n",
       "      <th>url</th>\n",
       "      <th>publisher</th>\n",
       "      <th>date</th>\n",
       "      <th>stock</th>\n",
       "    </tr>\n",
       "  </thead>\n",
       "  <tbody>\n",
       "    <tr>\n",
       "      <th>1407323</th>\n",
       "      <td>1413844</td>\n",
       "      <td>Top Narrow Based Indexes For August 29</td>\n",
       "      <td>https://www.benzinga.com/news/11/08/1888782/to...</td>\n",
       "      <td>Monica Gerson</td>\n",
       "      <td>2011-08-29 00:00:00</td>\n",
       "      <td>ZX</td>\n",
       "    </tr>\n",
       "    <tr>\n",
       "      <th>1407324</th>\n",
       "      <td>1413845</td>\n",
       "      <td>Recap: Wednesday's Top Percentage Gainers and ...</td>\n",
       "      <td>https://www.benzinga.com/news/earnings/11/06/1...</td>\n",
       "      <td>Benjamin Lee</td>\n",
       "      <td>2011-06-22 00:00:00</td>\n",
       "      <td>ZX</td>\n",
       "    </tr>\n",
       "    <tr>\n",
       "      <th>1407325</th>\n",
       "      <td>1413846</td>\n",
       "      <td>UPDATE: Oppenheimer Color on China Zenix Auto ...</td>\n",
       "      <td>https://www.benzinga.com/analyst-ratings/analy...</td>\n",
       "      <td>BenzingaStaffL</td>\n",
       "      <td>2011-06-21 00:00:00</td>\n",
       "      <td>ZX</td>\n",
       "    </tr>\n",
       "    <tr>\n",
       "      <th>1407326</th>\n",
       "      <td>1413847</td>\n",
       "      <td>Oppenheimer Initiates China Zenix At Outperfor...</td>\n",
       "      <td>https://www.benzinga.com/analyst-ratings/price...</td>\n",
       "      <td>Joe Young</td>\n",
       "      <td>2011-06-21 00:00:00</td>\n",
       "      <td>ZX</td>\n",
       "    </tr>\n",
       "    <tr>\n",
       "      <th>1407327</th>\n",
       "      <td>1413848</td>\n",
       "      <td>China Zenix Auto International Opens For Tradi...</td>\n",
       "      <td>https://www.benzinga.com/news/ipos/11/05/10789...</td>\n",
       "      <td>Allie Wickman</td>\n",
       "      <td>2011-05-12 00:00:00</td>\n",
       "      <td>ZX</td>\n",
       "    </tr>\n",
       "  </tbody>\n",
       "</table>\n",
       "</div>"
      ],
      "text/plain": [
       "         Unnamed: 0                                           headline  \\\n",
       "1407323     1413844             Top Narrow Based Indexes For August 29   \n",
       "1407324     1413845  Recap: Wednesday's Top Percentage Gainers and ...   \n",
       "1407325     1413846  UPDATE: Oppenheimer Color on China Zenix Auto ...   \n",
       "1407326     1413847  Oppenheimer Initiates China Zenix At Outperfor...   \n",
       "1407327     1413848  China Zenix Auto International Opens For Tradi...   \n",
       "\n",
       "                                                       url       publisher  \\\n",
       "1407323  https://www.benzinga.com/news/11/08/1888782/to...   Monica Gerson   \n",
       "1407324  https://www.benzinga.com/news/earnings/11/06/1...    Benjamin Lee   \n",
       "1407325  https://www.benzinga.com/analyst-ratings/analy...  BenzingaStaffL   \n",
       "1407326  https://www.benzinga.com/analyst-ratings/price...       Joe Young   \n",
       "1407327  https://www.benzinga.com/news/ipos/11/05/10789...   Allie Wickman   \n",
       "\n",
       "                        date stock  \n",
       "1407323  2011-08-29 00:00:00    ZX  \n",
       "1407324  2011-06-22 00:00:00    ZX  \n",
       "1407325  2011-06-21 00:00:00    ZX  \n",
       "1407326  2011-06-21 00:00:00    ZX  \n",
       "1407327  2011-05-12 00:00:00    ZX  "
      ]
     },
     "execution_count": 58,
     "metadata": {},
     "output_type": "execute_result"
    }
   ],
   "source": [
    "an = pd.read_csv('raw_analyst_ratings.csv')\n",
    "an.tail()"
   ]
  },
  {
   "cell_type": "markdown",
   "metadata": {},
   "source": [
    "# Check Number of Headlines and Analyst Ratings per stock"
   ]
  },
  {
   "cell_type": "code",
   "execution_count": 73,
   "metadata": {
    "ExecuteTime": {
     "end_time": "2021-05-15T07:52:12.524707Z",
     "start_time": "2021-05-15T07:52:12.431955Z"
    }
   },
   "outputs": [],
   "source": [
    "# Headlines and Ratings of Stocks in the Dow\n",
    "hl_dow = hl[hl.stock.isin(dow)]\n",
    "an_dow = an[an.stock.isin(dow)]"
   ]
  },
  {
   "cell_type": "code",
   "execution_count": 75,
   "metadata": {
    "ExecuteTime": {
     "end_time": "2021-05-15T07:52:26.298288Z",
     "start_time": "2021-05-15T07:52:26.279339Z"
    }
   },
   "outputs": [
    {
     "data": {
      "text/html": [
       "<div>\n",
       "<style scoped>\n",
       "    .dataframe tbody tr th:only-of-type {\n",
       "        vertical-align: middle;\n",
       "    }\n",
       "\n",
       "    .dataframe tbody tr th {\n",
       "        vertical-align: top;\n",
       "    }\n",
       "\n",
       "    .dataframe thead th {\n",
       "        text-align: right;\n",
       "    }\n",
       "</style>\n",
       "<table border=\"1\" class=\"dataframe\">\n",
       "  <thead>\n",
       "    <tr style=\"text-align: right;\">\n",
       "      <th></th>\n",
       "      <th>headline</th>\n",
       "      <th>ratings</th>\n",
       "    </tr>\n",
       "  </thead>\n",
       "  <tbody>\n",
       "    <tr>\n",
       "      <th>AAPL</th>\n",
       "      <td>32.0</td>\n",
       "      <td>441.0</td>\n",
       "    </tr>\n",
       "    <tr>\n",
       "      <th>AMGN</th>\n",
       "      <td>9.0</td>\n",
       "      <td>150.0</td>\n",
       "    </tr>\n",
       "    <tr>\n",
       "      <th>AXP</th>\n",
       "      <td>1926.0</td>\n",
       "      <td>1857.0</td>\n",
       "    </tr>\n",
       "    <tr>\n",
       "      <th>CAT</th>\n",
       "      <td>7.0</td>\n",
       "      <td>2322.0</td>\n",
       "    </tr>\n",
       "    <tr>\n",
       "      <th>CRM</th>\n",
       "      <td>5.0</td>\n",
       "      <td>1483.0</td>\n",
       "    </tr>\n",
       "    <tr>\n",
       "      <th>CSCO</th>\n",
       "      <td>508.0</td>\n",
       "      <td>1010.0</td>\n",
       "    </tr>\n",
       "    <tr>\n",
       "      <th>DIS</th>\n",
       "      <td>933.0</td>\n",
       "      <td>10.0</td>\n",
       "    </tr>\n",
       "    <tr>\n",
       "      <th>DOW</th>\n",
       "      <td>2418.0</td>\n",
       "      <td>1227.0</td>\n",
       "    </tr>\n",
       "    <tr>\n",
       "      <th>HD</th>\n",
       "      <td>1841.0</td>\n",
       "      <td>2612.0</td>\n",
       "    </tr>\n",
       "    <tr>\n",
       "      <th>IBM</th>\n",
       "      <td>2.0</td>\n",
       "      <td>1090.0</td>\n",
       "    </tr>\n",
       "    <tr>\n",
       "      <th>INTC</th>\n",
       "      <td>2465.0</td>\n",
       "      <td>10.0</td>\n",
       "    </tr>\n",
       "    <tr>\n",
       "      <th>JPM</th>\n",
       "      <td>2873.0</td>\n",
       "      <td>10.0</td>\n",
       "    </tr>\n",
       "    <tr>\n",
       "      <th>KO</th>\n",
       "      <td>77.0</td>\n",
       "      <td>2797.0</td>\n",
       "    </tr>\n",
       "    <tr>\n",
       "      <th>MCD</th>\n",
       "      <td>8.0</td>\n",
       "      <td>2228.0</td>\n",
       "    </tr>\n",
       "    <tr>\n",
       "      <th>MMM</th>\n",
       "      <td>6.0</td>\n",
       "      <td>1489.0</td>\n",
       "    </tr>\n",
       "    <tr>\n",
       "      <th>MRK</th>\n",
       "      <td>2.0</td>\n",
       "      <td>3333.0</td>\n",
       "    </tr>\n",
       "    <tr>\n",
       "      <th>PG</th>\n",
       "      <td>7.0</td>\n",
       "      <td>1305.0</td>\n",
       "    </tr>\n",
       "    <tr>\n",
       "      <th>TRV</th>\n",
       "      <td>2203.0</td>\n",
       "      <td>656.0</td>\n",
       "    </tr>\n",
       "    <tr>\n",
       "      <th>UNH</th>\n",
       "      <td>170.0</td>\n",
       "      <td>230.0</td>\n",
       "    </tr>\n",
       "    <tr>\n",
       "      <th>V</th>\n",
       "      <td>28.0</td>\n",
       "      <td>10.0</td>\n",
       "    </tr>\n",
       "    <tr>\n",
       "      <th>VZ</th>\n",
       "      <td>6.0</td>\n",
       "      <td>2966.0</td>\n",
       "    </tr>\n",
       "    <tr>\n",
       "      <th>WBA</th>\n",
       "      <td>1375.0</td>\n",
       "      <td>1194.0</td>\n",
       "    </tr>\n",
       "    <tr>\n",
       "      <th>WMT</th>\n",
       "      <td>1.0</td>\n",
       "      <td>10.0</td>\n",
       "    </tr>\n",
       "    <tr>\n",
       "      <th>BA</th>\n",
       "      <td>NaN</td>\n",
       "      <td>10.0</td>\n",
       "    </tr>\n",
       "    <tr>\n",
       "      <th>JNJ</th>\n",
       "      <td>NaN</td>\n",
       "      <td>2928.0</td>\n",
       "    </tr>\n",
       "  </tbody>\n",
       "</table>\n",
       "</div>"
      ],
      "text/plain": [
       "      headline  ratings\n",
       "AAPL      32.0    441.0\n",
       "AMGN       9.0    150.0\n",
       "AXP     1926.0   1857.0\n",
       "CAT        7.0   2322.0\n",
       "CRM        5.0   1483.0\n",
       "CSCO     508.0   1010.0\n",
       "DIS      933.0     10.0\n",
       "DOW     2418.0   1227.0\n",
       "HD      1841.0   2612.0\n",
       "IBM        2.0   1090.0\n",
       "INTC    2465.0     10.0\n",
       "JPM     2873.0     10.0\n",
       "KO        77.0   2797.0\n",
       "MCD        8.0   2228.0\n",
       "MMM        6.0   1489.0\n",
       "MRK        2.0   3333.0\n",
       "PG         7.0   1305.0\n",
       "TRV     2203.0    656.0\n",
       "UNH      170.0    230.0\n",
       "V         28.0     10.0\n",
       "VZ         6.0   2966.0\n",
       "WBA     1375.0   1194.0\n",
       "WMT        1.0     10.0\n",
       "BA         NaN     10.0\n",
       "JNJ        NaN   2928.0"
      ]
     },
     "execution_count": 75,
     "metadata": {},
     "output_type": "execute_result"
    }
   ],
   "source": [
    "# Check number of headline and ratings\n",
    "counts = pd.DataFrame([hl_dow.groupby('stock')['headline'].agg(len),\n",
    "                       an_dow.groupby('stock')['headline'].agg(len).rename('ratings')]).transpose()\n",
    "counts"
   ]
  },
  {
   "cell_type": "code",
   "execution_count": 76,
   "metadata": {
    "ExecuteTime": {
     "end_time": "2021-05-15T07:52:35.798158Z",
     "start_time": "2021-05-15T07:52:35.790180Z"
    }
   },
   "outputs": [
    {
     "data": {
      "text/plain": [
       "Index(['AAPL', 'AXP', 'CSCO', 'DOW', 'HD', 'KO', 'TRV', 'UNH', 'WBA'], dtype='object')"
      ]
     },
     "execution_count": 76,
     "metadata": {},
     "output_type": "execute_result"
    }
   ],
   "source": [
    "# Only include stocks with >10 headlines & >10 ratings for analysis to get more significant\n",
    "# results with larger numbers of headlines and ratings.\n",
    "\n",
    "dow_incl = counts[(counts['headline']>10) & (counts['ratings']>10)].index\n",
    "dow_incl"
   ]
  },
  {
   "cell_type": "code",
   "execution_count": 64,
   "metadata": {
    "ExecuteTime": {
     "end_time": "2021-05-15T07:48:29.519970Z",
     "start_time": "2021-05-15T07:48:29.509998Z"
    }
   },
   "outputs": [
    {
     "data": {
      "text/html": [
       "<div>\n",
       "<style scoped>\n",
       "    .dataframe tbody tr th:only-of-type {\n",
       "        vertical-align: middle;\n",
       "    }\n",
       "\n",
       "    .dataframe tbody tr th {\n",
       "        vertical-align: top;\n",
       "    }\n",
       "\n",
       "    .dataframe thead th {\n",
       "        text-align: right;\n",
       "    }\n",
       "</style>\n",
       "<table border=\"1\" class=\"dataframe\">\n",
       "  <thead>\n",
       "    <tr style=\"text-align: right;\">\n",
       "      <th></th>\n",
       "      <th>headline</th>\n",
       "      <th>ratings</th>\n",
       "    </tr>\n",
       "  </thead>\n",
       "  <tbody>\n",
       "    <tr>\n",
       "      <th>AAPL</th>\n",
       "      <td>32.0</td>\n",
       "      <td>441.0</td>\n",
       "    </tr>\n",
       "    <tr>\n",
       "      <th>AXP</th>\n",
       "      <td>1926.0</td>\n",
       "      <td>1857.0</td>\n",
       "    </tr>\n",
       "    <tr>\n",
       "      <th>CSCO</th>\n",
       "      <td>508.0</td>\n",
       "      <td>1010.0</td>\n",
       "    </tr>\n",
       "    <tr>\n",
       "      <th>DOW</th>\n",
       "      <td>2418.0</td>\n",
       "      <td>1227.0</td>\n",
       "    </tr>\n",
       "    <tr>\n",
       "      <th>HD</th>\n",
       "      <td>1841.0</td>\n",
       "      <td>2612.0</td>\n",
       "    </tr>\n",
       "    <tr>\n",
       "      <th>KO</th>\n",
       "      <td>77.0</td>\n",
       "      <td>2797.0</td>\n",
       "    </tr>\n",
       "    <tr>\n",
       "      <th>TRV</th>\n",
       "      <td>2203.0</td>\n",
       "      <td>656.0</td>\n",
       "    </tr>\n",
       "    <tr>\n",
       "      <th>UNH</th>\n",
       "      <td>170.0</td>\n",
       "      <td>230.0</td>\n",
       "    </tr>\n",
       "    <tr>\n",
       "      <th>WBA</th>\n",
       "      <td>1375.0</td>\n",
       "      <td>1194.0</td>\n",
       "    </tr>\n",
       "  </tbody>\n",
       "</table>\n",
       "</div>"
      ],
      "text/plain": [
       "      headline  ratings\n",
       "AAPL      32.0    441.0\n",
       "AXP     1926.0   1857.0\n",
       "CSCO     508.0   1010.0\n",
       "DOW     2418.0   1227.0\n",
       "HD      1841.0   2612.0\n",
       "KO        77.0   2797.0\n",
       "TRV     2203.0    656.0\n",
       "UNH      170.0    230.0\n",
       "WBA     1375.0   1194.0"
      ]
     },
     "execution_count": 64,
     "metadata": {},
     "output_type": "execute_result"
    }
   ],
   "source": [
    "counts.loc[dow_incl,:]"
   ]
  },
  {
   "cell_type": "code",
   "execution_count": 78,
   "metadata": {
    "ExecuteTime": {
     "end_time": "2021-05-15T08:04:24.702498Z",
     "start_time": "2021-05-15T08:04:24.632685Z"
    }
   },
   "outputs": [],
   "source": [
    "# Filtering these stocks in hl and an\n",
    "# These contain the data to analyze\n",
    "headlines = hl[hl.stock.isin(dow_incl)]\n",
    "ratings = an[an.stock.isin(dow_incl)]"
   ]
  },
  {
   "cell_type": "markdown",
   "metadata": {},
   "source": [
    "# Check Date Range"
   ]
  },
  {
   "cell_type": "code",
   "execution_count": 234,
   "metadata": {
    "ExecuteTime": {
     "end_time": "2021-05-15T09:08:10.102239Z",
     "start_time": "2021-05-15T09:08:10.083290Z"
    }
   },
   "outputs": [
    {
     "data": {
      "text/plain": [
       "4067       2020-06-02 00:00:00\n",
       "4068       2020-06-02 00:00:00\n",
       "4069       2020-06-02 00:00:00\n",
       "4070       2020-06-01 00:00:00\n",
       "4071       2020-06-01 00:00:00\n",
       "                  ...         \n",
       "1747360    2018-03-24 00:00:00\n",
       "1747361    2018-03-23 00:00:00\n",
       "1747362    2018-03-23 00:00:00\n",
       "1747363    2018-03-23 00:00:00\n",
       "1747364    2018-03-23 00:00:00\n",
       "Name: date, Length: 10550, dtype: object"
      ]
     },
     "execution_count": 234,
     "metadata": {},
     "output_type": "execute_result"
    }
   ],
   "source": [
    "headlines.date"
   ]
  },
  {
   "cell_type": "code",
   "execution_count": 236,
   "metadata": {
    "ExecuteTime": {
     "end_time": "2021-05-15T09:09:33.480150Z",
     "start_time": "2021-05-15T09:09:33.475164Z"
    }
   },
   "outputs": [],
   "source": [
    "from datetime import datetime"
   ]
  },
  {
   "cell_type": "code",
   "execution_count": 237,
   "metadata": {
    "ExecuteTime": {
     "end_time": "2021-05-15T09:09:35.462925Z",
     "start_time": "2021-05-15T09:09:35.451955Z"
    }
   },
   "outputs": [],
   "source": [
    "def time_conv(x):\n",
    "    if pd.isnull(x):\n",
    "        return np.nan\n",
    "    else:\n",
    "        try:\n",
    "            return datetime.strptime(str(x)[:19], \"%Y-%m-%d %H:%M:%S\")\n",
    "        except:\n",
    "            return np.nan"
   ]
  },
  {
   "cell_type": "code",
   "execution_count": 239,
   "metadata": {
    "ExecuteTime": {
     "end_time": "2021-05-15T09:10:06.889335Z",
     "start_time": "2021-05-15T09:10:05.935863Z"
    }
   },
   "outputs": [],
   "source": [
    "headlines['date'] = headlines.date.map(time_conv)\n",
    "ratings['date'] = ratings.date.map(time_conv)"
   ]
  },
  {
   "cell_type": "code",
   "execution_count": 246,
   "metadata": {
    "ExecuteTime": {
     "end_time": "2021-05-15T09:13:29.966094Z",
     "start_time": "2021-05-15T09:13:29.957118Z"
    }
   },
   "outputs": [],
   "source": [
    "headlines_dates = headlines.groupby('stock')['date'].agg([min, max])"
   ]
  },
  {
   "cell_type": "code",
   "execution_count": 252,
   "metadata": {
    "ExecuteTime": {
     "end_time": "2021-05-15T09:17:31.941325Z",
     "start_time": "2021-05-15T09:17:31.920380Z"
    }
   },
   "outputs": [],
   "source": [
    "headlines_dates = headlines_dates.merge(ratings.groupby('stock')['date'].agg([min, max]), left_index=True, right_index=True, suffixes=['_headlines','_ratings'])"
   ]
  },
  {
   "cell_type": "code",
   "execution_count": 253,
   "metadata": {
    "ExecuteTime": {
     "end_time": "2021-05-15T09:17:34.331016Z",
     "start_time": "2021-05-15T09:17:34.325033Z"
    }
   },
   "outputs": [],
   "source": [
    "# Most stocks have data ending May or June 2020\n",
    "# Some stocks have data starting late 2019 or 2020 only,\n",
    "# will exclude these and only include stocks with data starting prior to 2019 only\n",
    "# this gives roughly 1.5 years of data minimum"
   ]
  },
  {
   "cell_type": "code",
   "execution_count": 259,
   "metadata": {
    "ExecuteTime": {
     "end_time": "2021-05-15T09:22:12.357527Z",
     "start_time": "2021-05-15T09:22:12.333592Z"
    }
   },
   "outputs": [
    {
     "data": {
      "text/html": [
       "<div>\n",
       "<style scoped>\n",
       "    .dataframe tbody tr th:only-of-type {\n",
       "        vertical-align: middle;\n",
       "    }\n",
       "\n",
       "    .dataframe tbody tr th {\n",
       "        vertical-align: top;\n",
       "    }\n",
       "\n",
       "    .dataframe thead th {\n",
       "        text-align: right;\n",
       "    }\n",
       "</style>\n",
       "<table border=\"1\" class=\"dataframe\">\n",
       "  <thead>\n",
       "    <tr style=\"text-align: right;\">\n",
       "      <th></th>\n",
       "      <th>min_headlines</th>\n",
       "      <th>max_headlines</th>\n",
       "      <th>min_ratings</th>\n",
       "      <th>max_ratings</th>\n",
       "    </tr>\n",
       "    <tr>\n",
       "      <th>stock</th>\n",
       "      <th></th>\n",
       "      <th></th>\n",
       "      <th></th>\n",
       "      <th></th>\n",
       "    </tr>\n",
       "  </thead>\n",
       "  <tbody>\n",
       "    <tr>\n",
       "      <th>AXP</th>\n",
       "      <td>2016-04-20</td>\n",
       "      <td>2020-06-03</td>\n",
       "      <td>2009-08-07</td>\n",
       "      <td>2020-06-10 10:22:11</td>\n",
       "    </tr>\n",
       "    <tr>\n",
       "      <th>DOW</th>\n",
       "      <td>2010-03-01</td>\n",
       "      <td>2020-06-03</td>\n",
       "      <td>2009-08-25</td>\n",
       "      <td>2020-06-09 10:52:15</td>\n",
       "    </tr>\n",
       "    <tr>\n",
       "      <th>HD</th>\n",
       "      <td>2018-04-23</td>\n",
       "      <td>2020-06-04</td>\n",
       "      <td>2009-08-10</td>\n",
       "      <td>2020-06-10 08:14:08</td>\n",
       "    </tr>\n",
       "    <tr>\n",
       "      <th>TRV</th>\n",
       "      <td>2010-03-05</td>\n",
       "      <td>2020-05-29</td>\n",
       "      <td>2009-10-22</td>\n",
       "      <td>2020-06-11 10:05:13</td>\n",
       "    </tr>\n",
       "    <tr>\n",
       "      <th>WBA</th>\n",
       "      <td>2018-03-23</td>\n",
       "      <td>2020-05-27</td>\n",
       "      <td>2014-12-31</td>\n",
       "      <td>2020-06-08 11:34:19</td>\n",
       "    </tr>\n",
       "  </tbody>\n",
       "</table>\n",
       "</div>"
      ],
      "text/plain": [
       "      min_headlines max_headlines min_ratings         max_ratings\n",
       "stock                                                            \n",
       "AXP      2016-04-20    2020-06-03  2009-08-07 2020-06-10 10:22:11\n",
       "DOW      2010-03-01    2020-06-03  2009-08-25 2020-06-09 10:52:15\n",
       "HD       2018-04-23    2020-06-04  2009-08-10 2020-06-10 08:14:08\n",
       "TRV      2010-03-05    2020-05-29  2009-10-22 2020-06-11 10:05:13\n",
       "WBA      2018-03-23    2020-05-27  2014-12-31 2020-06-08 11:34:19"
      ]
     },
     "execution_count": 259,
     "metadata": {},
     "output_type": "execute_result"
    }
   ],
   "source": [
    "min_date = datetime.strptime(\"2019-01-01\", \"%Y-%m-%d\")\n",
    "\n",
    "headlines_dates = headlines_dates[(headlines_dates.min_headlines < min_date) &\n",
    "                                  (headlines_dates.min_ratings < min_date)]\n",
    "headlines_dates"
   ]
  },
  {
   "cell_type": "code",
   "execution_count": 260,
   "metadata": {
    "ExecuteTime": {
     "end_time": "2021-05-15T09:22:56.934189Z",
     "start_time": "2021-05-15T09:22:56.821490Z"
    }
   },
   "outputs": [],
   "source": [
    "# Update analysis universe\n",
    "dow_incl = headlines_dates.index\n",
    "\n",
    "headlines = hl[hl.stock.isin(dow_incl)]\n",
    "ratings = an[an.stock.isin(dow_incl)]"
   ]
  },
  {
   "cell_type": "markdown",
   "metadata": {},
   "source": [
    "# Sentiment scores on headlines and ratings"
   ]
  },
  {
   "cell_type": "code",
   "execution_count": 104,
   "metadata": {
    "ExecuteTime": {
     "end_time": "2021-05-15T08:18:56.746575Z",
     "start_time": "2021-05-15T08:18:56.728623Z"
    }
   },
   "outputs": [
    {
     "name": "stderr",
     "output_type": "stream",
     "text": [
      "[nltk_data] Downloading package vader_lexicon to\n",
      "[nltk_data]     C:\\Users\\user\\AppData\\Roaming\\nltk_data...\n",
      "[nltk_data]   Package vader_lexicon is already up-to-date!\n"
     ]
    }
   ],
   "source": [
    "import nltk \n",
    "nltk.download('vader_lexicon')\n",
    "from nltk.sentiment.vader import SentimentIntensityAnalyzer"
   ]
  },
  {
   "cell_type": "code",
   "execution_count": 170,
   "metadata": {
    "ExecuteTime": {
     "end_time": "2021-05-15T08:35:59.713809Z",
     "start_time": "2021-05-15T08:35:59.697852Z"
    }
   },
   "outputs": [
    {
     "data": {
      "text/plain": [
       "count    7502.000000\n",
       "mean       -0.181938\n",
       "std         1.700843\n",
       "min        -3.900000\n",
       "25%        -1.600000\n",
       "50%        -0.500000\n",
       "75%         1.500000\n",
       "max         3.400000\n",
       "dtype: float64"
      ]
     },
     "execution_count": 170,
     "metadata": {},
     "output_type": "execute_result"
    }
   ],
   "source": [
    "# Instantiate the sentiment intensity analyzer with the existing lexicon\n",
    "vader = SentimentIntensityAnalyzer()\n",
    "\n",
    "# check the distribution of the lexicon and sentiment values\n",
    "pd.Series(vader.lexicon).describe()"
   ]
  },
  {
   "cell_type": "markdown",
   "metadata": {},
   "source": [
    "## Add some word and sentiment values\n",
    "For financial use case we need more specific words: manually add"
   ]
  },
  {
   "cell_type": "code",
   "execution_count": 120,
   "metadata": {
    "ExecuteTime": {
     "end_time": "2021-05-15T08:21:57.355893Z",
     "start_time": "2021-05-15T08:21:57.351904Z"
    }
   },
   "outputs": [],
   "source": [
    "# https://www.kaggle.com/mmmarchetti/sentiment-analysis-on-financial-news\n",
    "# New words and values\n",
    "new_words = {\n",
    "    'crushes': -1.9,\n",
    "    'beats': 1,\n",
    "    'misses': -1,\n",
    "    'trouble': -1.7,\n",
    "    'falls': -1.5,\n",
    "    'dovish': 0.5,\n",
    "    'hawkish': -0.5\n",
    "}"
   ]
  },
  {
   "cell_type": "code",
   "execution_count": 125,
   "metadata": {
    "ExecuteTime": {
     "end_time": "2021-05-15T08:22:14.967762Z",
     "start_time": "2021-05-15T08:22:14.960781Z"
    }
   },
   "outputs": [
    {
     "name": "stdout",
     "output_type": "stream",
     "text": [
      "crushes -1.9\n",
      "beats 1\n",
      "misses -1\n",
      "trouble -1.7\n",
      "falls -1.5\n",
      "dovish 0.5\n",
      "hawkish -0.5\n"
     ]
    }
   ],
   "source": [
    "# Check values:\n",
    "for word in new_words.keys():\n",
    "    try: \n",
    "        print(word, vader.lexicon[word])\n",
    "    except:\n",
    "        pass"
   ]
  },
  {
   "cell_type": "code",
   "execution_count": 131,
   "metadata": {
    "ExecuteTime": {
     "end_time": "2021-05-15T08:23:47.724992Z",
     "start_time": "2021-05-15T08:23:47.713024Z"
    }
   },
   "outputs": [
    {
     "data": {
      "text/plain": [
       "1.5308845577211405"
      ]
     },
     "execution_count": 131,
     "metadata": {},
     "output_type": "execute_result"
    }
   ],
   "source": [
    "lex = pd.Series(vader.lexicon)\n",
    "lex[lex>0].mean()"
   ]
  },
  {
   "cell_type": "code",
   "execution_count": 132,
   "metadata": {
    "ExecuteTime": {
     "end_time": "2021-05-15T08:23:52.499346Z",
     "start_time": "2021-05-15T08:23:52.480397Z"
    }
   },
   "outputs": [
    {
     "data": {
      "text/plain": [
       "-1.5514265164229193"
      ]
     },
     "execution_count": 132,
     "metadata": {},
     "output_type": "execute_result"
    }
   ],
   "source": [
    "lex[lex<0].mean()"
   ]
  },
  {
   "cell_type": "markdown",
   "metadata": {},
   "source": [
    "### Add words from a word list:\n",
    "These are positive and negative word lists but no values attached, will add them with the mean positive and negative scores of the existing lexicon"
   ]
  },
  {
   "cell_type": "code",
   "execution_count": 171,
   "metadata": {
    "ExecuteTime": {
     "end_time": "2021-05-15T08:37:33.025940Z",
     "start_time": "2021-05-15T08:37:32.853402Z"
    }
   },
   "outputs": [],
   "source": [
    "# https://sraf.nd.edu/textual-analysis/resources/\n",
    "# Suggested by classmate Stuart Ong from peer review of proposal\n",
    "word_list_pos = pd.read_excel('LoughranMcDonald_SentimentWordLists_2018.xlsx', sheet_name='Positive', \n",
    "                              header=None)[0].map(lambda x: x.lower())\n",
    "word_list_neg= pd.read_excel('LoughranMcDonald_SentimentWordLists_2018.xlsx', sheet_name='Negative', \n",
    "                              header=None)[0].map(lambda x: x.lower())"
   ]
  },
  {
   "cell_type": "code",
   "execution_count": 172,
   "metadata": {
    "ExecuteTime": {
     "end_time": "2021-05-15T08:37:33.713614Z",
     "start_time": "2021-05-15T08:37:33.697657Z"
    }
   },
   "outputs": [],
   "source": [
    "# Add the missing words to the vader lexicon with the mean values\n",
    "words_pos = pd.DataFrame(word_list_pos[~word_list_pos.isin(lex.index)])\n",
    "words_pos['score']=lex[lex>0].mean()\n",
    "dict_words_pos = words_pos.set_index(0)['score'].to_dict()\n",
    "\n",
    "words_neg = pd.DataFrame(word_list_neg[~word_list_neg.isin(lex.index)])\n",
    "words_neg['score']=lex[lex<0].mean()\n",
    "dict_words_neg = words_neg.set_index(0)['score'].to_dict()"
   ]
  },
  {
   "cell_type": "code",
   "execution_count": 173,
   "metadata": {
    "ExecuteTime": {
     "end_time": "2021-05-15T08:37:34.210299Z",
     "start_time": "2021-05-15T08:37:34.193345Z"
    }
   },
   "outputs": [],
   "source": [
    "# Update the lexicon\n",
    "vader.lexicon.update(new_words)\n",
    "vader.lexicon.update(dict_words_pos)\n",
    "vader.lexicon.update(dict_words_neg)"
   ]
  },
  {
   "cell_type": "markdown",
   "metadata": {},
   "source": [
    "# Put sentiment scores in the headlines and ratings"
   ]
  },
  {
   "cell_type": "code",
   "execution_count": 261,
   "metadata": {
    "ExecuteTime": {
     "end_time": "2021-05-15T09:23:11.616349Z",
     "start_time": "2021-05-15T09:23:11.599395Z"
    }
   },
   "outputs": [],
   "source": [
    "pd.options.display.max_colwidth =300\n",
    "pd.options.display.max_rows =100"
   ]
  },
  {
   "cell_type": "code",
   "execution_count": 262,
   "metadata": {
    "ExecuteTime": {
     "end_time": "2021-05-15T09:23:11.632306Z",
     "start_time": "2021-05-15T09:23:11.617346Z"
    }
   },
   "outputs": [],
   "source": [
    "def add_scores(df, text_col_name):\n",
    "    try:\n",
    "        df.drop('score', axis=1, inplace=True)\n",
    "    except:\n",
    "        pass\n",
    "    scores = df[text_col_name].apply(vader.polarity_scores)\n",
    "    for item in scores.iteritems():\n",
    "        item[1]['index'] = item[0]\n",
    "        \n",
    "    scores = pd.DataFrame.from_records(scores.reset_index()[text_col_name], index='index')\n",
    "    df = df.join(scores['compound'].rename('score'))\n",
    "    \n",
    "    return df"
   ]
  },
  {
   "cell_type": "code",
   "execution_count": 263,
   "metadata": {
    "ExecuteTime": {
     "end_time": "2021-05-15T09:23:14.133152Z",
     "start_time": "2021-05-15T09:23:11.633304Z"
    }
   },
   "outputs": [],
   "source": [
    "headlines = add_scores(headlines, 'headline')\n",
    "ratings = add_scores(ratings, 'headline')"
   ]
  },
  {
   "cell_type": "code",
   "execution_count": 264,
   "metadata": {
    "ExecuteTime": {
     "end_time": "2021-05-15T09:23:14.164070Z",
     "start_time": "2021-05-15T09:23:14.137142Z"
    }
   },
   "outputs": [
    {
     "data": {
      "text/html": [
       "<div>\n",
       "<style scoped>\n",
       "    .dataframe tbody tr th:only-of-type {\n",
       "        vertical-align: middle;\n",
       "    }\n",
       "\n",
       "    .dataframe tbody tr th {\n",
       "        vertical-align: top;\n",
       "    }\n",
       "\n",
       "    .dataframe thead th {\n",
       "        text-align: right;\n",
       "    }\n",
       "</style>\n",
       "<table border=\"1\" class=\"dataframe\">\n",
       "  <thead>\n",
       "    <tr style=\"text-align: right;\">\n",
       "      <th></th>\n",
       "      <th>Unnamed: 0</th>\n",
       "      <th>headline</th>\n",
       "      <th>url</th>\n",
       "      <th>publisher</th>\n",
       "      <th>date</th>\n",
       "      <th>stock</th>\n",
       "      <th>score</th>\n",
       "    </tr>\n",
       "  </thead>\n",
       "  <tbody>\n",
       "    <tr>\n",
       "      <th>151569</th>\n",
       "      <td>151958</td>\n",
       "      <td>US Indexes End Higher Wednesday</td>\n",
       "      <td>http://www.gurufocus.com/news/1154923/us-indexes-end-higher-wednesday</td>\n",
       "      <td>GuruFocus</td>\n",
       "      <td>2020-06-03 00:00:00</td>\n",
       "      <td>AXP</td>\n",
       "      <td>0.00</td>\n",
       "    </tr>\n",
       "    <tr>\n",
       "      <th>151570</th>\n",
       "      <td>151959</td>\n",
       "      <td>Thinking about trading options or stock in Micron Technology, Boeing, Penn National Gaming, ...</td>\n",
       "      <td>http://www.gurufocus.com/news/1154684/thinking-about-trading-options-or-stock-in-micron-technology-boeing-penn-national-gaming-american-express-or-carnival-corp</td>\n",
       "      <td>GuruFocus</td>\n",
       "      <td>2020-06-03 00:00:00</td>\n",
       "      <td>AXP</td>\n",
       "      <td>0.00</td>\n",
       "    </tr>\n",
       "    <tr>\n",
       "      <th>151571</th>\n",
       "      <td>151960</td>\n",
       "      <td>Zoom Stock Rises Then Falls After Blockbuster Earnings</td>\n",
       "      <td>https://talkmarkets.com/content/zoom-stock-rises-then-falls-after-blockbuster-earnings?post=264259</td>\n",
       "      <td>TalkMarkets</td>\n",
       "      <td>2020-06-03 00:00:00</td>\n",
       "      <td>AXP</td>\n",
       "      <td>0.34</td>\n",
       "    </tr>\n",
       "    <tr>\n",
       "      <th>151572</th>\n",
       "      <td>151961</td>\n",
       "      <td>Bill Nygren Adds 4 Stocks to Portfolio in –st Quarter</td>\n",
       "      <td>http://www.gurufocus.com/news/1153868/bill-nygren-adds-4-stocks-to-portfolio-in-1st-quarter</td>\n",
       "      <td>GuruFocus</td>\n",
       "      <td>2020-06-02 00:00:00</td>\n",
       "      <td>AXP</td>\n",
       "      <td>0.00</td>\n",
       "    </tr>\n",
       "    <tr>\n",
       "      <th>151573</th>\n",
       "      <td>151962</td>\n",
       "      <td>Oakmark Fund Buys American Express Co, Workday Inc, Match Group Inc, Sells Citigroup Inc, Bank ...</td>\n",
       "      <td>http://www.gurufocus.com/news/1152994/oakmark-fund-buys-american-express-co-workday-inc-match-group-inc-sells-citigroup-inc-bank-of-america-corp-capital-one-financial-corp</td>\n",
       "      <td>GuruFocus</td>\n",
       "      <td>2020-06-01 00:00:00</td>\n",
       "      <td>AXP</td>\n",
       "      <td>0.00</td>\n",
       "    </tr>\n",
       "  </tbody>\n",
       "</table>\n",
       "</div>"
      ],
      "text/plain": [
       "        Unnamed: 0  \\\n",
       "151569      151958   \n",
       "151570      151959   \n",
       "151571      151960   \n",
       "151572      151961   \n",
       "151573      151962   \n",
       "\n",
       "                                                                                                  headline  \\\n",
       "151569                                                                     US Indexes End Higher Wednesday   \n",
       "151570     Thinking about trading options or stock in Micron Technology, Boeing, Penn National Gaming, ...   \n",
       "151571                                              Zoom Stock Rises Then Falls After Blockbuster Earnings   \n",
       "151572                                               Bill Nygren Adds 4 Stocks to Portfolio in –st Quarter   \n",
       "151573  Oakmark Fund Buys American Express Co, Workday Inc, Match Group Inc, Sells Citigroup Inc, Bank ...   \n",
       "\n",
       "                                                                                                                                                                                url  \\\n",
       "151569                                                                                                        http://www.gurufocus.com/news/1154923/us-indexes-end-higher-wednesday   \n",
       "151570             http://www.gurufocus.com/news/1154684/thinking-about-trading-options-or-stock-in-micron-technology-boeing-penn-national-gaming-american-express-or-carnival-corp   \n",
       "151571                                                                           https://talkmarkets.com/content/zoom-stock-rises-then-falls-after-blockbuster-earnings?post=264259   \n",
       "151572                                                                                  http://www.gurufocus.com/news/1153868/bill-nygren-adds-4-stocks-to-portfolio-in-1st-quarter   \n",
       "151573  http://www.gurufocus.com/news/1152994/oakmark-fund-buys-american-express-co-workday-inc-match-group-inc-sells-citigroup-inc-bank-of-america-corp-capital-one-financial-corp   \n",
       "\n",
       "          publisher                 date stock  score  \n",
       "151569    GuruFocus  2020-06-03 00:00:00   AXP   0.00  \n",
       "151570    GuruFocus  2020-06-03 00:00:00   AXP   0.00  \n",
       "151571  TalkMarkets  2020-06-03 00:00:00   AXP   0.34  \n",
       "151572    GuruFocus  2020-06-02 00:00:00   AXP   0.00  \n",
       "151573    GuruFocus  2020-06-01 00:00:00   AXP   0.00  "
      ]
     },
     "execution_count": 264,
     "metadata": {},
     "output_type": "execute_result"
    }
   ],
   "source": [
    "headlines.head()"
   ]
  },
  {
   "cell_type": "code",
   "execution_count": 265,
   "metadata": {
    "ExecuteTime": {
     "end_time": "2021-05-15T09:23:14.193990Z",
     "start_time": "2021-05-15T09:23:14.167062Z"
    }
   },
   "outputs": [
    {
     "data": {
      "text/html": [
       "<div>\n",
       "<style scoped>\n",
       "    .dataframe tbody tr th:only-of-type {\n",
       "        vertical-align: middle;\n",
       "    }\n",
       "\n",
       "    .dataframe tbody tr th {\n",
       "        vertical-align: top;\n",
       "    }\n",
       "\n",
       "    .dataframe thead th {\n",
       "        text-align: right;\n",
       "    }\n",
       "</style>\n",
       "<table border=\"1\" class=\"dataframe\">\n",
       "  <thead>\n",
       "    <tr style=\"text-align: right;\">\n",
       "      <th></th>\n",
       "      <th>Unnamed: 0</th>\n",
       "      <th>headline</th>\n",
       "      <th>url</th>\n",
       "      <th>publisher</th>\n",
       "      <th>date</th>\n",
       "      <th>stock</th>\n",
       "      <th>score</th>\n",
       "    </tr>\n",
       "  </thead>\n",
       "  <tbody>\n",
       "    <tr>\n",
       "      <th>122483</th>\n",
       "      <td>123364</td>\n",
       "      <td>Shares of several financial services companies are trading lower as markets sell off following recent strength and as investors await today's Federal Reserve decision. UPDATE: Equities spiked following the Fed's decision to leave rates unchanged, with several stocks now up for the session.</td>\n",
       "      <td>https://www.benzinga.com/wiim/20/06/16222456/shares-of-several-financial-services-companies-are-trading-lower-as-markets-sell-off-following-recen</td>\n",
       "      <td>Benzinga Newsdesk</td>\n",
       "      <td>2020-06-10 10:22:11</td>\n",
       "      <td>AXP</td>\n",
       "      <td>0.5267</td>\n",
       "    </tr>\n",
       "    <tr>\n",
       "      <th>122484</th>\n",
       "      <td>123365</td>\n",
       "      <td>Jefferies Maintains Hold on American Express, Raises Price Target to $110</td>\n",
       "      <td>https://www.benzinga.com/news/20/06/16220746/jefferies-maintains-hold-on-american-express-raises-price-target-to-110</td>\n",
       "      <td>Benzinga Newsdesk</td>\n",
       "      <td>2020-06-10 08:34:38</td>\n",
       "      <td>AXP</td>\n",
       "      <td>0.0000</td>\n",
       "    </tr>\n",
       "    <tr>\n",
       "      <th>122485</th>\n",
       "      <td>123366</td>\n",
       "      <td>FTC Bans Madera Merchant Services LLC, B&amp;P Enterprises LLC and Owners Bruce C. Woods and Patricia Woods</td>\n",
       "      <td>https://www.benzinga.com/news/20/06/16214568/ftc-bans-madera-merchant-services-llc-b-p-enterprises-llc-and-owners-bruce-c-woods-and-patricia-wood</td>\n",
       "      <td>Benzinga Newsdesk</td>\n",
       "      <td>2020-06-09 13:09:24</td>\n",
       "      <td>AXP</td>\n",
       "      <td>-0.3719</td>\n",
       "    </tr>\n",
       "    <tr>\n",
       "      <th>122486</th>\n",
       "      <td>123367</td>\n",
       "      <td>Shares of several financial services companies are trading lower as equities sell off following recent rally. Stocks have rallied over the past week amid optimism towards the US economy reopening and investors have potentially taken some profits following run up.</td>\n",
       "      <td>https://www.benzinga.com/wiim/20/06/16212810/shares-of-several-financial-services-companies-are-trading-lower-as-equities-sell-off-following-rece</td>\n",
       "      <td>Benzinga Newsdesk</td>\n",
       "      <td>2020-06-09 10:34:41</td>\n",
       "      <td>AXP</td>\n",
       "      <td>0.7506</td>\n",
       "    </tr>\n",
       "    <tr>\n",
       "      <th>122487</th>\n",
       "      <td>123368</td>\n",
       "      <td>Morgan Stanley Maintains Overweight on American Express, Raises Price Target to $117</td>\n",
       "      <td>https://www.benzinga.com/news/20/06/16199843/morgan-stanley-maintains-overweight-on-american-express-raises-price-target-to-117</td>\n",
       "      <td>Benzinga Newsdesk</td>\n",
       "      <td>2020-06-08 07:44:54</td>\n",
       "      <td>AXP</td>\n",
       "      <td>-0.3612</td>\n",
       "    </tr>\n",
       "  </tbody>\n",
       "</table>\n",
       "</div>"
      ],
      "text/plain": [
       "        Unnamed: 0  \\\n",
       "122483      123364   \n",
       "122484      123365   \n",
       "122485      123366   \n",
       "122486      123367   \n",
       "122487      123368   \n",
       "\n",
       "                                                                                                                                                                                                                                                                                                  headline  \\\n",
       "122483  Shares of several financial services companies are trading lower as markets sell off following recent strength and as investors await today's Federal Reserve decision. UPDATE: Equities spiked following the Fed's decision to leave rates unchanged, with several stocks now up for the session.   \n",
       "122484                                                                                                                                                                                                                           Jefferies Maintains Hold on American Express, Raises Price Target to $110   \n",
       "122485                                                                                                                                                                                             FTC Bans Madera Merchant Services LLC, B&P Enterprises LLC and Owners Bruce C. Woods and Patricia Woods   \n",
       "122486                             Shares of several financial services companies are trading lower as equities sell off following recent rally. Stocks have rallied over the past week amid optimism towards the US economy reopening and investors have potentially taken some profits following run up.   \n",
       "122487                                                                                                                                                                                                                Morgan Stanley Maintains Overweight on American Express, Raises Price Target to $117   \n",
       "\n",
       "                                                                                                                                                      url  \\\n",
       "122483  https://www.benzinga.com/wiim/20/06/16222456/shares-of-several-financial-services-companies-are-trading-lower-as-markets-sell-off-following-recen   \n",
       "122484                               https://www.benzinga.com/news/20/06/16220746/jefferies-maintains-hold-on-american-express-raises-price-target-to-110   \n",
       "122485  https://www.benzinga.com/news/20/06/16214568/ftc-bans-madera-merchant-services-llc-b-p-enterprises-llc-and-owners-bruce-c-woods-and-patricia-wood   \n",
       "122486  https://www.benzinga.com/wiim/20/06/16212810/shares-of-several-financial-services-companies-are-trading-lower-as-equities-sell-off-following-rece   \n",
       "122487                    https://www.benzinga.com/news/20/06/16199843/morgan-stanley-maintains-overweight-on-american-express-raises-price-target-to-117   \n",
       "\n",
       "                publisher                date stock   score  \n",
       "122483  Benzinga Newsdesk 2020-06-10 10:22:11   AXP  0.5267  \n",
       "122484  Benzinga Newsdesk 2020-06-10 08:34:38   AXP  0.0000  \n",
       "122485  Benzinga Newsdesk 2020-06-09 13:09:24   AXP -0.3719  \n",
       "122486  Benzinga Newsdesk 2020-06-09 10:34:41   AXP  0.7506  \n",
       "122487  Benzinga Newsdesk 2020-06-08 07:44:54   AXP -0.3612  "
      ]
     },
     "execution_count": 265,
     "metadata": {},
     "output_type": "execute_result"
    }
   ],
   "source": [
    "ratings.head()"
   ]
  },
  {
   "cell_type": "markdown",
   "metadata": {
    "ExecuteTime": {
     "end_time": "2021-05-15T08:59:21.089767Z",
     "start_time": "2021-05-15T08:59:19.955764Z"
    }
   },
   "source": [
    "# Get stock price data (yFinance)"
   ]
  },
  {
   "cell_type": "markdown",
   "metadata": {},
   "source": [
    "https://aroussi.com/post/python-yahoo-finance"
   ]
  },
  {
   "cell_type": "code",
   "execution_count": 274,
   "metadata": {
    "ExecuteTime": {
     "end_time": "2021-05-15T09:31:59.831860Z",
     "start_time": "2021-05-15T09:31:59.817898Z"
    }
   },
   "outputs": [
    {
     "data": {
      "text/plain": [
       "Index(['AXP', 'DOW', 'HD', 'TRV', 'WBA'], dtype='object', name='stock')"
      ]
     },
     "execution_count": 274,
     "metadata": {},
     "output_type": "execute_result"
    }
   ],
   "source": [
    "# list of stocks reminder\n",
    "dow_incl"
   ]
  },
  {
   "cell_type": "code",
   "execution_count": 275,
   "metadata": {
    "ExecuteTime": {
     "end_time": "2021-05-15T09:32:00.018362Z",
     "start_time": "2021-05-15T09:31:59.988443Z"
    }
   },
   "outputs": [
    {
     "data": {
      "text/html": [
       "<div>\n",
       "<style scoped>\n",
       "    .dataframe tbody tr th:only-of-type {\n",
       "        vertical-align: middle;\n",
       "    }\n",
       "\n",
       "    .dataframe tbody tr th {\n",
       "        vertical-align: top;\n",
       "    }\n",
       "\n",
       "    .dataframe thead th {\n",
       "        text-align: right;\n",
       "    }\n",
       "</style>\n",
       "<table border=\"1\" class=\"dataframe\">\n",
       "  <thead>\n",
       "    <tr style=\"text-align: right;\">\n",
       "      <th></th>\n",
       "      <th>min_headlines</th>\n",
       "      <th>max_headlines</th>\n",
       "      <th>min_ratings</th>\n",
       "      <th>max_ratings</th>\n",
       "    </tr>\n",
       "    <tr>\n",
       "      <th>stock</th>\n",
       "      <th></th>\n",
       "      <th></th>\n",
       "      <th></th>\n",
       "      <th></th>\n",
       "    </tr>\n",
       "  </thead>\n",
       "  <tbody>\n",
       "    <tr>\n",
       "      <th>AXP</th>\n",
       "      <td>2016-04-20</td>\n",
       "      <td>2020-06-03</td>\n",
       "      <td>2009-08-07</td>\n",
       "      <td>2020-06-10 10:22:11</td>\n",
       "    </tr>\n",
       "    <tr>\n",
       "      <th>DOW</th>\n",
       "      <td>2010-03-01</td>\n",
       "      <td>2020-06-03</td>\n",
       "      <td>2009-08-25</td>\n",
       "      <td>2020-06-09 10:52:15</td>\n",
       "    </tr>\n",
       "    <tr>\n",
       "      <th>HD</th>\n",
       "      <td>2018-04-23</td>\n",
       "      <td>2020-06-04</td>\n",
       "      <td>2009-08-10</td>\n",
       "      <td>2020-06-10 08:14:08</td>\n",
       "    </tr>\n",
       "    <tr>\n",
       "      <th>TRV</th>\n",
       "      <td>2010-03-05</td>\n",
       "      <td>2020-05-29</td>\n",
       "      <td>2009-10-22</td>\n",
       "      <td>2020-06-11 10:05:13</td>\n",
       "    </tr>\n",
       "    <tr>\n",
       "      <th>WBA</th>\n",
       "      <td>2018-03-23</td>\n",
       "      <td>2020-05-27</td>\n",
       "      <td>2014-12-31</td>\n",
       "      <td>2020-06-08 11:34:19</td>\n",
       "    </tr>\n",
       "  </tbody>\n",
       "</table>\n",
       "</div>"
      ],
      "text/plain": [
       "      min_headlines max_headlines min_ratings         max_ratings\n",
       "stock                                                            \n",
       "AXP      2016-04-20    2020-06-03  2009-08-07 2020-06-10 10:22:11\n",
       "DOW      2010-03-01    2020-06-03  2009-08-25 2020-06-09 10:52:15\n",
       "HD       2018-04-23    2020-06-04  2009-08-10 2020-06-10 08:14:08\n",
       "TRV      2010-03-05    2020-05-29  2009-10-22 2020-06-11 10:05:13\n",
       "WBA      2018-03-23    2020-05-27  2014-12-31 2020-06-08 11:34:19"
      ]
     },
     "execution_count": 275,
     "metadata": {},
     "output_type": "execute_result"
    }
   ],
   "source": [
    "# dates we need\n",
    "headlines_dates"
   ]
  },
  {
   "cell_type": "code",
   "execution_count": 277,
   "metadata": {
    "ExecuteTime": {
     "end_time": "2021-05-15T09:32:14.196980Z",
     "start_time": "2021-05-15T09:32:14.189002Z"
    }
   },
   "outputs": [
    {
     "data": {
      "text/plain": [
       "Index(['AXP', 'DOW', 'HD', 'TRV', 'WBA'], dtype='object', name='stock')"
      ]
     },
     "execution_count": 277,
     "metadata": {},
     "output_type": "execute_result"
    }
   ],
   "source": [
    "import yfinance as yf\n"
   ]
  },
  {
   "cell_type": "code",
   "execution_count": 267,
   "metadata": {
    "ExecuteTime": {
     "end_time": "2021-05-15T09:23:14.470267Z",
     "start_time": "2021-05-15T09:23:14.211942Z"
    }
   },
   "outputs": [
    {
     "name": "stdout",
     "output_type": "stream",
     "text": [
      "[*********************100%***********************]  5 of 5 completed\n",
      "\n",
      "1 Failed download:\n",
      "- DOW: Data doesn't exist for startDate = 1483200000, endDate = 1493481600\n"
     ]
    }
   ],
   "source": [
    "data = yf.download(\" \".join(dow_incl), start=\"2017-01-01\", end=\"2017-04-30\")"
   ]
  },
  {
   "cell_type": "code",
   "execution_count": 273,
   "metadata": {
    "ExecuteTime": {
     "end_time": "2021-05-15T09:31:48.532171Z",
     "start_time": "2021-05-15T09:31:48.395537Z"
    }
   },
   "outputs": [
    {
     "name": "stdout",
     "output_type": "stream",
     "text": [
      "[*********************100%***********************]  1 of 1 completed\n",
      "\n",
      "1 Failed download:\n",
      "- DWDP: No data found, symbol may be delisted\n"
     ]
    },
    {
     "data": {
      "text/html": [
       "<div>\n",
       "<style scoped>\n",
       "    .dataframe tbody tr th:only-of-type {\n",
       "        vertical-align: middle;\n",
       "    }\n",
       "\n",
       "    .dataframe tbody tr th {\n",
       "        vertical-align: top;\n",
       "    }\n",
       "\n",
       "    .dataframe thead th {\n",
       "        text-align: right;\n",
       "    }\n",
       "</style>\n",
       "<table border=\"1\" class=\"dataframe\">\n",
       "  <thead>\n",
       "    <tr style=\"text-align: right;\">\n",
       "      <th></th>\n",
       "      <th>Open</th>\n",
       "      <th>High</th>\n",
       "      <th>Low</th>\n",
       "      <th>Close</th>\n",
       "      <th>Adj Close</th>\n",
       "      <th>Volume</th>\n",
       "    </tr>\n",
       "    <tr>\n",
       "      <th>Date</th>\n",
       "      <th></th>\n",
       "      <th></th>\n",
       "      <th></th>\n",
       "      <th></th>\n",
       "      <th></th>\n",
       "      <th></th>\n",
       "    </tr>\n",
       "  </thead>\n",
       "  <tbody>\n",
       "  </tbody>\n",
       "</table>\n",
       "</div>"
      ],
      "text/plain": [
       "Empty DataFrame\n",
       "Columns: [Open, High, Low, Close, Adj Close, Volume]\n",
       "Index: []"
      ]
     },
     "execution_count": 273,
     "metadata": {},
     "output_type": "execute_result"
    }
   ],
   "source": [
    "data_DOW = yf.download(\"DWDP\", start=\"2017-01-01\", end=\"2019-03-20\")\n",
    "data_DOW"
   ]
  },
  {
   "cell_type": "code",
   "execution_count": 280,
   "metadata": {
    "ExecuteTime": {
     "end_time": "2021-05-15T09:33:24.466506Z",
     "start_time": "2021-05-15T09:33:24.441573Z"
    }
   },
   "outputs": [
    {
     "ename": "KeyError",
     "evalue": "\"['DOW'] not found in axis\"",
     "output_type": "error",
     "traceback": [
      "\u001b[1;31m---------------------------------------------------------------------------\u001b[0m",
      "\u001b[1;31mKeyError\u001b[0m                                  Traceback (most recent call last)",
      "\u001b[1;32m<ipython-input-280-7e50f3600c0c>\u001b[0m in \u001b[0;36m<module>\u001b[1;34m\u001b[0m\n\u001b[0;32m      2\u001b[0m \u001b[1;31m# stock was DWDP prior, and went thru a merger.  It is not possible to retrieve delisted stock data from this package.\u001b[0m\u001b[1;33m\u001b[0m\u001b[1;33m\u001b[0m\u001b[1;33m\u001b[0m\u001b[0m\n\u001b[0;32m      3\u001b[0m \u001b[1;31m# we will drop DOW from our analysis\u001b[0m\u001b[1;33m\u001b[0m\u001b[1;33m\u001b[0m\u001b[1;33m\u001b[0m\u001b[0m\n\u001b[1;32m----> 4\u001b[1;33m \u001b[0mdow_incl\u001b[0m \u001b[1;33m=\u001b[0m \u001b[0mdow_incl\u001b[0m\u001b[1;33m.\u001b[0m\u001b[0mdrop\u001b[0m\u001b[1;33m(\u001b[0m\u001b[1;34m'DOW'\u001b[0m\u001b[1;33m)\u001b[0m\u001b[1;33m\u001b[0m\u001b[1;33m\u001b[0m\u001b[0m\n\u001b[0m\u001b[0;32m      5\u001b[0m \u001b[0mheadlines_dates\u001b[0m\u001b[1;33m\u001b[0m\u001b[1;33m\u001b[0m\u001b[0m\n",
      "\u001b[1;32mC:\\ProgramData\\Anaconda3\\lib\\site-packages\\pandas\\core\\indexes\\base.py\u001b[0m in \u001b[0;36mdrop\u001b[1;34m(self, labels, errors)\u001b[0m\n\u001b[0;32m   5280\u001b[0m         \u001b[1;32mif\u001b[0m \u001b[0mmask\u001b[0m\u001b[1;33m.\u001b[0m\u001b[0many\u001b[0m\u001b[1;33m(\u001b[0m\u001b[1;33m)\u001b[0m\u001b[1;33m:\u001b[0m\u001b[1;33m\u001b[0m\u001b[1;33m\u001b[0m\u001b[0m\n\u001b[0;32m   5281\u001b[0m             \u001b[1;32mif\u001b[0m \u001b[0merrors\u001b[0m \u001b[1;33m!=\u001b[0m \u001b[1;34m\"ignore\"\u001b[0m\u001b[1;33m:\u001b[0m\u001b[1;33m\u001b[0m\u001b[1;33m\u001b[0m\u001b[0m\n\u001b[1;32m-> 5282\u001b[1;33m                 \u001b[1;32mraise\u001b[0m \u001b[0mKeyError\u001b[0m\u001b[1;33m(\u001b[0m\u001b[1;34mf\"{labels[mask]} not found in axis\"\u001b[0m\u001b[1;33m)\u001b[0m\u001b[1;33m\u001b[0m\u001b[1;33m\u001b[0m\u001b[0m\n\u001b[0m\u001b[0;32m   5283\u001b[0m             \u001b[0mindexer\u001b[0m \u001b[1;33m=\u001b[0m \u001b[0mindexer\u001b[0m\u001b[1;33m[\u001b[0m\u001b[1;33m~\u001b[0m\u001b[0mmask\u001b[0m\u001b[1;33m]\u001b[0m\u001b[1;33m\u001b[0m\u001b[1;33m\u001b[0m\u001b[0m\n\u001b[0;32m   5284\u001b[0m         \u001b[1;32mreturn\u001b[0m \u001b[0mself\u001b[0m\u001b[1;33m.\u001b[0m\u001b[0mdelete\u001b[0m\u001b[1;33m(\u001b[0m\u001b[0mindexer\u001b[0m\u001b[1;33m)\u001b[0m\u001b[1;33m\u001b[0m\u001b[1;33m\u001b[0m\u001b[0m\n",
      "\u001b[1;31mKeyError\u001b[0m: \"['DOW'] not found in axis\""
     ]
    }
   ],
   "source": [
    "# DOW started 20 Mar 2019\n",
    "# stock was DWDP prior, and went thru a merger.  It is not possible to retrieve delisted stock data from this package.\n",
    "# we will drop DOW from our analysis\n",
    "dow_incl = dow_incl.drop('DOW')\n"
   ]
  },
  {
   "cell_type": "code",
   "execution_count": 283,
   "metadata": {
    "ExecuteTime": {
     "end_time": "2021-05-15T09:35:08.231207Z",
     "start_time": "2021-05-15T09:35:08.214252Z"
    }
   },
   "outputs": [
    {
     "data": {
      "text/html": [
       "<div>\n",
       "<style scoped>\n",
       "    .dataframe tbody tr th:only-of-type {\n",
       "        vertical-align: middle;\n",
       "    }\n",
       "\n",
       "    .dataframe tbody tr th {\n",
       "        vertical-align: top;\n",
       "    }\n",
       "\n",
       "    .dataframe thead th {\n",
       "        text-align: right;\n",
       "    }\n",
       "</style>\n",
       "<table border=\"1\" class=\"dataframe\">\n",
       "  <thead>\n",
       "    <tr style=\"text-align: right;\">\n",
       "      <th></th>\n",
       "      <th>min_headlines</th>\n",
       "      <th>max_headlines</th>\n",
       "      <th>min_ratings</th>\n",
       "      <th>max_ratings</th>\n",
       "    </tr>\n",
       "    <tr>\n",
       "      <th>stock</th>\n",
       "      <th></th>\n",
       "      <th></th>\n",
       "      <th></th>\n",
       "      <th></th>\n",
       "    </tr>\n",
       "  </thead>\n",
       "  <tbody>\n",
       "    <tr>\n",
       "      <th>AXP</th>\n",
       "      <td>2016-04-20</td>\n",
       "      <td>2020-06-03</td>\n",
       "      <td>2009-08-07</td>\n",
       "      <td>2020-06-10 10:22:11</td>\n",
       "    </tr>\n",
       "    <tr>\n",
       "      <th>HD</th>\n",
       "      <td>2018-04-23</td>\n",
       "      <td>2020-06-04</td>\n",
       "      <td>2009-08-10</td>\n",
       "      <td>2020-06-10 08:14:08</td>\n",
       "    </tr>\n",
       "    <tr>\n",
       "      <th>TRV</th>\n",
       "      <td>2010-03-05</td>\n",
       "      <td>2020-05-29</td>\n",
       "      <td>2009-10-22</td>\n",
       "      <td>2020-06-11 10:05:13</td>\n",
       "    </tr>\n",
       "    <tr>\n",
       "      <th>WBA</th>\n",
       "      <td>2018-03-23</td>\n",
       "      <td>2020-05-27</td>\n",
       "      <td>2014-12-31</td>\n",
       "      <td>2020-06-08 11:34:19</td>\n",
       "    </tr>\n",
       "  </tbody>\n",
       "</table>\n",
       "</div>"
      ],
      "text/plain": [
       "      min_headlines max_headlines min_ratings         max_ratings\n",
       "stock                                                            \n",
       "AXP      2016-04-20    2020-06-03  2009-08-07 2020-06-10 10:22:11\n",
       "HD       2018-04-23    2020-06-04  2009-08-10 2020-06-10 08:14:08\n",
       "TRV      2010-03-05    2020-05-29  2009-10-22 2020-06-11 10:05:13\n",
       "WBA      2018-03-23    2020-05-27  2014-12-31 2020-06-08 11:34:19"
      ]
     },
     "execution_count": 283,
     "metadata": {},
     "output_type": "execute_result"
    }
   ],
   "source": [
    "headlines_dates = headlines_dates.drop('DOW', axis=0)\n",
    "headlines_dates"
   ]
  },
  {
   "cell_type": "markdown",
   "metadata": {},
   "source": [
    "We will select date period where both headlines and ratings are avaialble for analysis"
   ]
  },
  {
   "cell_type": "code",
   "execution_count": 294,
   "metadata": {
    "ExecuteTime": {
     "end_time": "2021-05-15T09:39:55.625277Z",
     "start_time": "2021-05-15T09:39:55.614306Z"
    }
   },
   "outputs": [
    {
     "data": {
      "text/html": [
       "<div>\n",
       "<style scoped>\n",
       "    .dataframe tbody tr th:only-of-type {\n",
       "        vertical-align: middle;\n",
       "    }\n",
       "\n",
       "    .dataframe tbody tr th {\n",
       "        vertical-align: top;\n",
       "    }\n",
       "\n",
       "    .dataframe thead th {\n",
       "        text-align: right;\n",
       "    }\n",
       "</style>\n",
       "<table border=\"1\" class=\"dataframe\">\n",
       "  <thead>\n",
       "    <tr style=\"text-align: right;\">\n",
       "      <th></th>\n",
       "      <th>min_headlines</th>\n",
       "      <th>max_headlines</th>\n",
       "      <th>min_ratings</th>\n",
       "      <th>max_ratings</th>\n",
       "      <th>start_date</th>\n",
       "      <th>end_date</th>\n",
       "    </tr>\n",
       "    <tr>\n",
       "      <th>stock</th>\n",
       "      <th></th>\n",
       "      <th></th>\n",
       "      <th></th>\n",
       "      <th></th>\n",
       "      <th></th>\n",
       "      <th></th>\n",
       "    </tr>\n",
       "  </thead>\n",
       "  <tbody>\n",
       "    <tr>\n",
       "      <th>AXP</th>\n",
       "      <td>2016-04-20</td>\n",
       "      <td>2020-06-03</td>\n",
       "      <td>2009-08-07</td>\n",
       "      <td>2020-06-10 10:22:11</td>\n",
       "      <td>2016-04-20</td>\n",
       "      <td>2020-06-10 10:22:11</td>\n",
       "    </tr>\n",
       "    <tr>\n",
       "      <th>HD</th>\n",
       "      <td>2018-04-23</td>\n",
       "      <td>2020-06-04</td>\n",
       "      <td>2009-08-10</td>\n",
       "      <td>2020-06-10 08:14:08</td>\n",
       "      <td>2018-04-23</td>\n",
       "      <td>2020-06-10 08:14:08</td>\n",
       "    </tr>\n",
       "    <tr>\n",
       "      <th>TRV</th>\n",
       "      <td>2010-03-05</td>\n",
       "      <td>2020-05-29</td>\n",
       "      <td>2009-10-22</td>\n",
       "      <td>2020-06-11 10:05:13</td>\n",
       "      <td>2010-03-05</td>\n",
       "      <td>2020-06-11 10:05:13</td>\n",
       "    </tr>\n",
       "    <tr>\n",
       "      <th>WBA</th>\n",
       "      <td>2018-03-23</td>\n",
       "      <td>2020-05-27</td>\n",
       "      <td>2014-12-31</td>\n",
       "      <td>2020-06-08 11:34:19</td>\n",
       "      <td>2018-03-23</td>\n",
       "      <td>2020-06-08 11:34:19</td>\n",
       "    </tr>\n",
       "  </tbody>\n",
       "</table>\n",
       "</div>"
      ],
      "text/plain": [
       "      min_headlines max_headlines min_ratings         max_ratings start_date  \\\n",
       "stock                                                                          \n",
       "AXP      2016-04-20    2020-06-03  2009-08-07 2020-06-10 10:22:11 2016-04-20   \n",
       "HD       2018-04-23    2020-06-04  2009-08-10 2020-06-10 08:14:08 2018-04-23   \n",
       "TRV      2010-03-05    2020-05-29  2009-10-22 2020-06-11 10:05:13 2010-03-05   \n",
       "WBA      2018-03-23    2020-05-27  2014-12-31 2020-06-08 11:34:19 2018-03-23   \n",
       "\n",
       "                 end_date  \n",
       "stock                      \n",
       "AXP   2020-06-10 10:22:11  \n",
       "HD    2020-06-10 08:14:08  \n",
       "TRV   2020-06-11 10:05:13  \n",
       "WBA   2020-06-08 11:34:19  "
      ]
     },
     "execution_count": 294,
     "metadata": {},
     "output_type": "execute_result"
    }
   ],
   "source": [
    "headlines_dates.loc[:,'start_date'] = headlines_dates[['min_headlines', 'min_ratings']].max(axis=1)\n",
    "headlines_dates.loc[:,'end_date'] = headlines_dates[['max_headlines', 'max_ratings']].max(axis=1)\n",
    "headlines_dates"
   ]
  },
  {
   "cell_type": "code",
   "execution_count": 295,
   "metadata": {
    "ExecuteTime": {
     "end_time": "2021-05-15T09:43:33.739824Z",
     "start_time": "2021-05-15T09:43:33.407699Z"
    }
   },
   "outputs": [
    {
     "name": "stdout",
     "output_type": "stream",
     "text": [
      "[*********************100%***********************]  4 of 4 completed\n"
     ]
    }
   ],
   "source": [
    "px_data = yf.download(\" \".join(dow_incl), \n",
    "                      start=headlines_dates.start_date.min(), \n",
    "                      end=headlines_dates.end_date.max())"
   ]
  },
  {
   "cell_type": "code",
   "execution_count": 302,
   "metadata": {
    "ExecuteTime": {
     "end_time": "2021-05-15T09:49:54.889039Z",
     "start_time": "2021-05-15T09:49:54.872087Z"
    }
   },
   "outputs": [
    {
     "data": {
      "text/html": [
       "<div>\n",
       "<style scoped>\n",
       "    .dataframe tbody tr th:only-of-type {\n",
       "        vertical-align: middle;\n",
       "    }\n",
       "\n",
       "    .dataframe tbody tr th {\n",
       "        vertical-align: top;\n",
       "    }\n",
       "\n",
       "    .dataframe thead th {\n",
       "        text-align: right;\n",
       "    }\n",
       "</style>\n",
       "<table border=\"1\" class=\"dataframe\">\n",
       "  <thead>\n",
       "    <tr style=\"text-align: right;\">\n",
       "      <th></th>\n",
       "      <th>AXP</th>\n",
       "      <th>HD</th>\n",
       "      <th>TRV</th>\n",
       "      <th>WBA</th>\n",
       "    </tr>\n",
       "    <tr>\n",
       "      <th>Date</th>\n",
       "      <th></th>\n",
       "      <th></th>\n",
       "      <th></th>\n",
       "      <th></th>\n",
       "    </tr>\n",
       "  </thead>\n",
       "  <tbody>\n",
       "    <tr>\n",
       "      <th>2010-03-04</th>\n",
       "      <td>32.841263</td>\n",
       "      <td>24.091663</td>\n",
       "      <td>40.552822</td>\n",
       "      <td>26.689392</td>\n",
       "    </tr>\n",
       "    <tr>\n",
       "      <th>2010-03-05</th>\n",
       "      <td>33.947525</td>\n",
       "      <td>24.367517</td>\n",
       "      <td>40.848156</td>\n",
       "      <td>26.681772</td>\n",
       "    </tr>\n",
       "    <tr>\n",
       "      <th>2010-03-08</th>\n",
       "      <td>33.533726</td>\n",
       "      <td>24.490128</td>\n",
       "      <td>40.992924</td>\n",
       "      <td>26.491142</td>\n",
       "    </tr>\n",
       "    <tr>\n",
       "      <th>2010-03-09</th>\n",
       "      <td>33.525291</td>\n",
       "      <td>24.456156</td>\n",
       "      <td>40.817680</td>\n",
       "      <td>26.224245</td>\n",
       "    </tr>\n",
       "    <tr>\n",
       "      <th>2010-03-10</th>\n",
       "      <td>33.542187</td>\n",
       "      <td>24.479322</td>\n",
       "      <td>40.299549</td>\n",
       "      <td>26.132734</td>\n",
       "    </tr>\n",
       "    <tr>\n",
       "      <th>...</th>\n",
       "      <td>...</td>\n",
       "      <td>...</td>\n",
       "      <td>...</td>\n",
       "      <td>...</td>\n",
       "    </tr>\n",
       "    <tr>\n",
       "      <th>2020-06-04</th>\n",
       "      <td>104.933197</td>\n",
       "      <td>244.767258</td>\n",
       "      <td>114.978394</td>\n",
       "      <td>42.776699</td>\n",
       "    </tr>\n",
       "    <tr>\n",
       "      <th>2020-06-05</th>\n",
       "      <td>108.075089</td>\n",
       "      <td>250.617279</td>\n",
       "      <td>121.175537</td>\n",
       "      <td>43.889660</td>\n",
       "    </tr>\n",
       "    <tr>\n",
       "      <th>2020-06-08</th>\n",
       "      <td>111.955658</td>\n",
       "      <td>252.455856</td>\n",
       "      <td>124.722321</td>\n",
       "      <td>45.505890</td>\n",
       "    </tr>\n",
       "    <tr>\n",
       "      <th>2020-06-09</th>\n",
       "      <td>108.794060</td>\n",
       "      <td>252.446045</td>\n",
       "      <td>123.025360</td>\n",
       "      <td>43.821918</td>\n",
       "    </tr>\n",
       "    <tr>\n",
       "      <th>2020-06-10</th>\n",
       "      <td>104.558922</td>\n",
       "      <td>250.174850</td>\n",
       "      <td>118.670135</td>\n",
       "      <td>42.854118</td>\n",
       "    </tr>\n",
       "  </tbody>\n",
       "</table>\n",
       "<p>2586 rows × 4 columns</p>\n",
       "</div>"
      ],
      "text/plain": [
       "                   AXP          HD         TRV        WBA\n",
       "Date                                                     \n",
       "2010-03-04   32.841263   24.091663   40.552822  26.689392\n",
       "2010-03-05   33.947525   24.367517   40.848156  26.681772\n",
       "2010-03-08   33.533726   24.490128   40.992924  26.491142\n",
       "2010-03-09   33.525291   24.456156   40.817680  26.224245\n",
       "2010-03-10   33.542187   24.479322   40.299549  26.132734\n",
       "...                ...         ...         ...        ...\n",
       "2020-06-04  104.933197  244.767258  114.978394  42.776699\n",
       "2020-06-05  108.075089  250.617279  121.175537  43.889660\n",
       "2020-06-08  111.955658  252.455856  124.722321  45.505890\n",
       "2020-06-09  108.794060  252.446045  123.025360  43.821918\n",
       "2020-06-10  104.558922  250.174850  118.670135  42.854118\n",
       "\n",
       "[2586 rows x 4 columns]"
      ]
     },
     "execution_count": 302,
     "metadata": {},
     "output_type": "execute_result"
    }
   ],
   "source": [
    "px_data = px_data.loc[:,px_data.columns.get_level_values(0) == 'Adj Close']\n",
    "px_data.columns = px_data.columns.get_level_values(1)\n",
    "px_data"
   ]
  },
  {
   "cell_type": "markdown",
   "metadata": {},
   "source": [
    "# Merge headlines, ratings to px_data time series"
   ]
  },
  {
   "cell_type": "markdown",
   "metadata": {},
   "source": [
    "## add headlines, ratings sentiment scores to the px_data time_series"
   ]
  },
  {
   "cell_type": "markdown",
   "metadata": {},
   "source": [
    "WIP"
   ]
  },
  {
   "cell_type": "code",
   "execution_count": 303,
   "metadata": {
    "ExecuteTime": {
     "end_time": "2021-05-15T09:50:02.570177Z",
     "start_time": "2021-05-15T09:50:02.551228Z"
    },
    "scrolled": true
   },
   "outputs": [
    {
     "data": {
      "text/html": [
       "<div>\n",
       "<style scoped>\n",
       "    .dataframe tbody tr th:only-of-type {\n",
       "        vertical-align: middle;\n",
       "    }\n",
       "\n",
       "    .dataframe tbody tr th {\n",
       "        vertical-align: top;\n",
       "    }\n",
       "\n",
       "    .dataframe thead th {\n",
       "        text-align: right;\n",
       "    }\n",
       "</style>\n",
       "<table border=\"1\" class=\"dataframe\">\n",
       "  <thead>\n",
       "    <tr style=\"text-align: right;\">\n",
       "      <th></th>\n",
       "      <th>AXP</th>\n",
       "      <th>HD</th>\n",
       "      <th>TRV</th>\n",
       "      <th>WBA</th>\n",
       "    </tr>\n",
       "    <tr>\n",
       "      <th>Date</th>\n",
       "      <th></th>\n",
       "      <th></th>\n",
       "      <th></th>\n",
       "      <th></th>\n",
       "    </tr>\n",
       "  </thead>\n",
       "  <tbody>\n",
       "    <tr>\n",
       "      <th>2010-03-04</th>\n",
       "      <td>32.841263</td>\n",
       "      <td>24.091663</td>\n",
       "      <td>40.552822</td>\n",
       "      <td>26.689392</td>\n",
       "    </tr>\n",
       "    <tr>\n",
       "      <th>2010-03-05</th>\n",
       "      <td>33.947525</td>\n",
       "      <td>24.367517</td>\n",
       "      <td>40.848156</td>\n",
       "      <td>26.681772</td>\n",
       "    </tr>\n",
       "    <tr>\n",
       "      <th>2010-03-08</th>\n",
       "      <td>33.533726</td>\n",
       "      <td>24.490128</td>\n",
       "      <td>40.992924</td>\n",
       "      <td>26.491142</td>\n",
       "    </tr>\n",
       "    <tr>\n",
       "      <th>2010-03-09</th>\n",
       "      <td>33.525291</td>\n",
       "      <td>24.456156</td>\n",
       "      <td>40.817680</td>\n",
       "      <td>26.224245</td>\n",
       "    </tr>\n",
       "    <tr>\n",
       "      <th>2010-03-10</th>\n",
       "      <td>33.542187</td>\n",
       "      <td>24.479322</td>\n",
       "      <td>40.299549</td>\n",
       "      <td>26.132734</td>\n",
       "    </tr>\n",
       "    <tr>\n",
       "      <th>...</th>\n",
       "      <td>...</td>\n",
       "      <td>...</td>\n",
       "      <td>...</td>\n",
       "      <td>...</td>\n",
       "    </tr>\n",
       "    <tr>\n",
       "      <th>2020-06-04</th>\n",
       "      <td>104.933197</td>\n",
       "      <td>244.767258</td>\n",
       "      <td>114.978394</td>\n",
       "      <td>42.776699</td>\n",
       "    </tr>\n",
       "    <tr>\n",
       "      <th>2020-06-05</th>\n",
       "      <td>108.075089</td>\n",
       "      <td>250.617279</td>\n",
       "      <td>121.175537</td>\n",
       "      <td>43.889660</td>\n",
       "    </tr>\n",
       "    <tr>\n",
       "      <th>2020-06-08</th>\n",
       "      <td>111.955658</td>\n",
       "      <td>252.455856</td>\n",
       "      <td>124.722321</td>\n",
       "      <td>45.505890</td>\n",
       "    </tr>\n",
       "    <tr>\n",
       "      <th>2020-06-09</th>\n",
       "      <td>108.794060</td>\n",
       "      <td>252.446045</td>\n",
       "      <td>123.025360</td>\n",
       "      <td>43.821918</td>\n",
       "    </tr>\n",
       "    <tr>\n",
       "      <th>2020-06-10</th>\n",
       "      <td>104.558922</td>\n",
       "      <td>250.174850</td>\n",
       "      <td>118.670135</td>\n",
       "      <td>42.854118</td>\n",
       "    </tr>\n",
       "  </tbody>\n",
       "</table>\n",
       "<p>2586 rows × 4 columns</p>\n",
       "</div>"
      ],
      "text/plain": [
       "                   AXP          HD         TRV        WBA\n",
       "Date                                                     \n",
       "2010-03-04   32.841263   24.091663   40.552822  26.689392\n",
       "2010-03-05   33.947525   24.367517   40.848156  26.681772\n",
       "2010-03-08   33.533726   24.490128   40.992924  26.491142\n",
       "2010-03-09   33.525291   24.456156   40.817680  26.224245\n",
       "2010-03-10   33.542187   24.479322   40.299549  26.132734\n",
       "...                ...         ...         ...        ...\n",
       "2020-06-04  104.933197  244.767258  114.978394  42.776699\n",
       "2020-06-05  108.075089  250.617279  121.175537  43.889660\n",
       "2020-06-08  111.955658  252.455856  124.722321  45.505890\n",
       "2020-06-09  108.794060  252.446045  123.025360  43.821918\n",
       "2020-06-10  104.558922  250.174850  118.670135  42.854118\n",
       "\n",
       "[2586 rows x 4 columns]"
      ]
     },
     "execution_count": 303,
     "metadata": {},
     "output_type": "execute_result"
    }
   ],
   "source": [
    "px_data"
   ]
  },
  {
   "cell_type": "code",
   "execution_count": 307,
   "metadata": {
    "ExecuteTime": {
     "end_time": "2021-05-15T09:52:07.533199Z",
     "start_time": "2021-05-15T09:52:07.520233Z"
    }
   },
   "outputs": [
    {
     "data": {
      "text/html": [
       "<div>\n",
       "<style scoped>\n",
       "    .dataframe tbody tr th:only-of-type {\n",
       "        vertical-align: middle;\n",
       "    }\n",
       "\n",
       "    .dataframe tbody tr th {\n",
       "        vertical-align: top;\n",
       "    }\n",
       "\n",
       "    .dataframe thead th {\n",
       "        text-align: right;\n",
       "    }\n",
       "</style>\n",
       "<table border=\"1\" class=\"dataframe\">\n",
       "  <thead>\n",
       "    <tr style=\"text-align: right;\">\n",
       "      <th></th>\n",
       "      <th>score</th>\n",
       "    </tr>\n",
       "    <tr>\n",
       "      <th>date</th>\n",
       "      <th></th>\n",
       "    </tr>\n",
       "  </thead>\n",
       "  <tbody>\n",
       "    <tr>\n",
       "      <th>2020-06-03 00:00:00</th>\n",
       "      <td>0.0000</td>\n",
       "    </tr>\n",
       "    <tr>\n",
       "      <th>2020-06-03 00:00:00</th>\n",
       "      <td>0.0000</td>\n",
       "    </tr>\n",
       "    <tr>\n",
       "      <th>2020-06-03 00:00:00</th>\n",
       "      <td>0.3400</td>\n",
       "    </tr>\n",
       "    <tr>\n",
       "      <th>2020-06-02 00:00:00</th>\n",
       "      <td>0.0000</td>\n",
       "    </tr>\n",
       "    <tr>\n",
       "      <th>2020-06-01 00:00:00</th>\n",
       "      <td>0.0000</td>\n",
       "    </tr>\n",
       "    <tr>\n",
       "      <th>...</th>\n",
       "      <td>...</td>\n",
       "    </tr>\n",
       "    <tr>\n",
       "      <th>2016-04-20 00:00:00</th>\n",
       "      <td>0.0000</td>\n",
       "    </tr>\n",
       "    <tr>\n",
       "      <th>2016-04-20 00:00:00</th>\n",
       "      <td>-0.1531</td>\n",
       "    </tr>\n",
       "    <tr>\n",
       "      <th>2016-04-20 00:00:00</th>\n",
       "      <td>0.0000</td>\n",
       "    </tr>\n",
       "    <tr>\n",
       "      <th>2016-04-20 00:00:00</th>\n",
       "      <td>0.0000</td>\n",
       "    </tr>\n",
       "    <tr>\n",
       "      <th>2016-04-20 00:00:00</th>\n",
       "      <td>-0.0391</td>\n",
       "    </tr>\n",
       "  </tbody>\n",
       "</table>\n",
       "<p>1926 rows × 1 columns</p>\n",
       "</div>"
      ],
      "text/plain": [
       "                      score\n",
       "date                       \n",
       "2020-06-03 00:00:00  0.0000\n",
       "2020-06-03 00:00:00  0.0000\n",
       "2020-06-03 00:00:00  0.3400\n",
       "2020-06-02 00:00:00  0.0000\n",
       "2020-06-01 00:00:00  0.0000\n",
       "...                     ...\n",
       "2016-04-20 00:00:00  0.0000\n",
       "2016-04-20 00:00:00 -0.1531\n",
       "2016-04-20 00:00:00  0.0000\n",
       "2016-04-20 00:00:00  0.0000\n",
       "2016-04-20 00:00:00 -0.0391\n",
       "\n",
       "[1926 rows x 1 columns]"
      ]
     },
     "execution_count": 307,
     "metadata": {},
     "output_type": "execute_result"
    }
   ],
   "source": [
    "ser_hl_score = headlines.loc[headlines.stock=='AXP', ['date', 'score']].set_index('date')\n",
    "ser_hl_score"
   ]
  },
  {
   "cell_type": "code",
   "execution_count": null,
   "metadata": {},
   "outputs": [],
   "source": []
  },
  {
   "cell_type": "code",
   "execution_count": null,
   "metadata": {
    "ExecuteTime": {
     "end_time": "2021-05-15T09:23:14.534095Z",
     "start_time": "2021-05-15T09:23:11.617Z"
    }
   },
   "outputs": [],
   "source": [
    "data"
   ]
  },
  {
   "cell_type": "code",
   "execution_count": null,
   "metadata": {},
   "outputs": [],
   "source": []
  },
  {
   "cell_type": "markdown",
   "metadata": {},
   "source": [
    "# Yahoo Finance API - We are not using this for this project anymore"
   ]
  },
  {
   "cell_type": "code",
   "execution_count": null,
   "metadata": {
    "ExecuteTime": {
     "end_time": "2021-05-15T09:23:14.535093Z",
     "start_time": "2021-05-15T09:23:11.619Z"
    }
   },
   "outputs": [],
   "source": [
    "import requests\n",
    "def sendRequest(stock):\n",
    "    url = \"https://apidojo-yahoo-finance-v1.p.rapidapi.com/stock/v2/get-chart\"\n",
    "\n",
    "    querystring = {\"interval\":\"1d\",\"symbol\":stock,\"range\":\"10y\",\"region\":\"US\"}\n",
    "\n",
    "    headers = {\n",
    "        'x-rapidapi-key': \"bcfa998f82msh8147536c9705b6cp1082b2jsn8a170fe34c8a\",\n",
    "        'x-rapidapi-host': \"apidojo-yahoo-finance-v1.p.rapidapi.com\"\n",
    "        }\n",
    "\n",
    "    response = requests.request(\"GET\", url, headers=headers, params=querystring)\n",
    "    if response.status_code==200:\n",
    "        return response.text\n",
    "    else:\n",
    "        return None"
   ]
  },
  {
   "cell_type": "code",
   "execution_count": null,
   "metadata": {
    "ExecuteTime": {
     "end_time": "2021-05-15T09:23:14.535093Z",
     "start_time": "2021-05-15T09:23:11.621Z"
    },
    "scrolled": true
   },
   "outputs": [],
   "source": [
    "sendRequest('TSLA')"
   ]
  },
  {
   "cell_type": "code",
   "execution_count": null,
   "metadata": {
    "ExecuteTime": {
     "end_time": "2021-05-15T09:23:14.536090Z",
     "start_time": "2021-05-15T09:23:11.622Z"
    }
   },
   "outputs": [],
   "source": [
    "import json\n",
    "def getHistData(stock):\n",
    "    response = sendRequest(stock)\n",
    "    histdata = pd.DataFrame()\n",
    "    if response == None:\n",
    "        return histdata\n",
    "    else:\n",
    "        try:\n",
    "            jsondata = json.loads(response)\n",
    "\n",
    "            #print(data2['chart'][\"result\"][0][\"indicators\"][\"quote\"][0])\n",
    "            timestamps = pd.Series(jsondata['chart'][\"result\"][0][\"timestamp\"])\n",
    "            high = pd.Series(jsondata['chart'][\"result\"][0][\"indicators\"][\"quote\"][0][\"high\"])\n",
    "            low = pd.Series(jsondata['chart'][\"result\"][0][\"indicators\"][\"quote\"][0][\"low\"])\n",
    "            close = pd.Series(jsondata['chart'][\"result\"][0][\"indicators\"][\"adjclose\"][0][\"adjclose\"])\n",
    "            columns = {\"timestamps\":timestamps,\"high\":high,\"low\":low,\"close\":close,\"stock\":stock}\n",
    "            histdata = pd.DataFrame(columns)\n",
    "            return histdata\n",
    "        except:\n",
    "            print(stock)\n",
    "            print(response)\n",
    "            return pd.DataFrame()\n",
    "            \n"
   ]
  },
  {
   "cell_type": "code",
   "execution_count": null,
   "metadata": {
    "ExecuteTime": {
     "end_time": "2021-05-15T09:23:14.537087Z",
     "start_time": "2021-05-15T09:23:11.624Z"
    }
   },
   "outputs": [],
   "source": [
    "getHistData('TSLA')"
   ]
  },
  {
   "cell_type": "markdown",
   "metadata": {},
   "source": [
    "# yfinance package"
   ]
  }
 ],
 "metadata": {
  "kernelspec": {
   "display_name": "Python 3",
   "language": "python",
   "name": "python3"
  },
  "language_info": {
   "codemirror_mode": {
    "name": "ipython",
    "version": 3
   },
   "file_extension": ".py",
   "mimetype": "text/x-python",
   "name": "python",
   "nbconvert_exporter": "python",
   "pygments_lexer": "ipython3",
   "version": "3.8.5"
  },
  "toc": {
   "base_numbering": 1,
   "nav_menu": {},
   "number_sections": true,
   "sideBar": true,
   "skip_h1_title": false,
   "title_cell": "Table of Contents",
   "title_sidebar": "Contents",
   "toc_cell": false,
   "toc_position": {},
   "toc_section_display": true,
   "toc_window_display": false
  }
 },
 "nbformat": 4,
 "nbformat_minor": 4
}
